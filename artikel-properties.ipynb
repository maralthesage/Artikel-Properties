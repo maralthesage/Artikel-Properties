{
 "cells": [
  {
   "cell_type": "code",
   "execution_count": null,
   "metadata": {},
   "outputs": [],
   "source": [
    "import pandas as pd\n",
    "import matplotlib.pyplot as plt\n",
    "import seaborn as sns\n",
    "import math\n",
    "import regex as re\n",
    "from values import *"
   ]
  },
  {
   "cell_type": "code",
   "execution_count": null,
   "metadata": {},
   "outputs": [],
   "source": [
    "val = Values()"
   ]
  },
  {
   "cell_type": "code",
   "execution_count": null,
   "metadata": {},
   "outputs": [],
   "source": [
    "df = pd.read_csv(val.file_path, encoding='latin-1', delimiter=';', on_bad_lines='skip', parse_dates= val.dates, dayfirst=True)\n"
   ]
  },
  {
   "cell_type": "code",
   "execution_count": null,
   "metadata": {},
   "outputs": [],
   "source": [
    "kuchen_gerate = df[df['WARENGR'].isin(val.wr_list)]"
   ]
  },
  {
   "cell_type": "code",
   "execution_count": null,
   "metadata": {},
   "outputs": [],
   "source": [
    "for id,item in enumerate(kuchen_gerate['VAR_TEXT']):\n",
    "    kuchen_gerate = kuchen_gerate.dropna(subset='VAR_TEXT')\n"
   ]
  },
  {
   "cell_type": "markdown",
   "metadata": {},
   "source": [
    "### Cleaning unwanted characters and rows"
   ]
  },
  {
   "cell_type": "code",
   "execution_count": null,
   "metadata": {},
   "outputs": [],
   "source": [
    "kuchen_gerate['VAR_TEXT'] = kuchen_gerate['VAR_TEXT'].str.replace('&nbsp_',' ')\n",
    "kuchen_gerate['VAR_TEXT'] =kuchen_gerate['VAR_TEXT'].str.replace('&Oslash',' ')\n",
    "kuchen_gerate['VAR_TEXT'] =kuchen_gerate['VAR_TEXT'].str.replace('<br>',' ')\n",
    "\n",
    "kuchen_gerate = kuchen_gerate[kuchen_gerate['WM'].isna() == True]\n",
    "kuchen_gerate = kuchen_gerate[kuchen_gerate['NUMMER'].str.match(r'^\\w+S$') == False]\n",
    "kuchen_gerate = kuchen_gerate[kuchen_gerate['NUMMER'].str.match(r'^\\w+P$') == False]\n"
   ]
  },
  {
   "cell_type": "code",
   "execution_count": null,
   "metadata": {},
   "outputs": [],
   "source": [
    "mined_text = kuchen_gerate[['NUMMER','VAR_TEXT']].copy()"
   ]
  },
  {
   "cell_type": "code",
   "execution_count": null,
   "metadata": {},
   "outputs": [],
   "source": [
    "mined_text.loc[mined_text['VAR_TEXT'].str.contains(' klein *',case=False),'GROESSE'] = 'S'\n",
    "mined_text.loc[mined_text['VAR_TEXT'].str.contains(' groß *',case=False),'GROESSE'] = 'L'\n",
    "mined_text.loc[mined_text['VAR_TEXT'].str.contains(' mittel *',case=False),'GROESSE'] = 'M'\n",
    "\n",
    "\n",
    "mined_text['FARBE'] = mined_text['VAR_TEXT'].str.extract(r'(\\Wrot\\W|kirschrot|ofenrot|orange|gelb|blau|schwarz|weiß|weiss|grün|silber|creme|grau|blu |dijongelb|Elfenbein|gold|aubergine|Dunkelgrün|dunkel- braun|braun)',flags=re.IGNORECASE)\n",
    "mined_text['FARBE'] = mined_text['FARBE'].str.capitalize()\n",
    "\n",
    "mined_text['STUECK'] = mined_text['VAR_TEXT'].str.extract(r'( \\d+ Stück| *\\d+-tlg.|\\d+-teilig|\\d+tlg.)',flags=re.IGNORECASE)\n",
    "# mined_text['MATERIAL'] = mined_text['VAR_TEXT'].str.extract(r'(glas|edelstahl|ohne keramik|Cristal|Guss-Aluminium|titan|kupfer|edelst.|keramik|Gußeisen|Gusseisen|Guss|eisen|holz|porzellan)',flags=re.IGNORECASE)\n",
    "# mined_text['MATERIAL'] = mined_text['MATERIAL'].str.capitalize()\n",
    "mined_text['GEWICHT'] = mined_text['VAR_TEXT'].str.extract(r'([\\d,]*\\d+ *kg|\\d+ *g |\\d+ *gram)',flags=re.IGNORECASE)\n",
    "mined_text['HOHE'] = mined_text['VAR_TEXT'].str.extract(r'(\\d+ *cm hoch|Pfanne hoch \\(\\d+ cm\\)|[\\d,\\d]+ cm hoch)',flags=re.IGNORECASE)\n",
    "mined_text['BODEN'] = mined_text['VAR_TEXT'].str.extract(r'(Boden [Ø ]*\\d+ cm)',flags=re.IGNORECASE)\n",
    "mined_text['DECKEL'] = mined_text['VAR_TEXT'].str.extract(r'(mit deckel|ohne deckel|mit glasdeckel|m.Deckel|\\+Deckel|\\+ Deckel)',flags=re.IGNORECASE)\n",
    "mined_text['FORM'] = mined_text['VAR_TEXT'].str.extract(r'(rund|oval|rechteckige|eckige|rechteckig|eckig)',flags=re.IGNORECASE)\n",
    "mined_text['FORM'] = mined_text['FORM'].str.capitalize()\n",
    "\n"
   ]
  },
  {
   "cell_type": "markdown",
   "metadata": {},
   "source": [
    "### Separating dimensions into separate columns"
   ]
  },
  {
   "cell_type": "code",
   "execution_count": null,
   "metadata": {},
   "outputs": [],
   "source": [
    "mined_text['MASSEN'] = mined_text['VAR_TEXT'].str.extract(r'([\\d,*\\d* x]*[ *\\d,*\\d* x]*[ *\\d,*\\d*] *cm| \\d+mm| \\d+ mm| \\d+cm| \\d+mm|\\d+ cm)',flags=re.IGNORECASE)\n",
    "\n",
    "mined_text['MASSEN'] = mined_text['MASSEN'].str.replace(r'^, ','',regex=True)\n",
    "mined_text['MASSEN'] = mined_text['MASSEN'].str.replace(r'^ *','',regex=True)\n",
    "mined_text['MASSEN'] = mined_text['MASSEN'].str.replace('X','x',regex=True)\n",
    "mined_text['MASSEN'] = mined_text['MASSEN'].str.replace('x',' x ',regex=True)\n",
    "mined_text['MASSEN'] = mined_text['MASSEN'].str.replace('  x  ',' x ',regex=True)\n",
    "mined_text['MASSEN'] = mined_text['MASSEN'].str.replace('cm',' cm',regex=True)\n",
    "mined_text['MASSEN'] = mined_text['MASSEN'].str.replace('  cm',' cm',regex=True)\n",
    "mined_text['MASSEN'] = mined_text['MASSEN'].str.replace('mm',' mm',regex=True)\n",
    "\n",
    "mined_text['MASSEN_EINHEIT'] = mined_text['MASSEN'].str.extract(r'(cm|mm)')\n",
    "mined_text['MASSEN'] = mined_text['MASSEN'].str.replace(r'[cm|mm]','',regex=True)"
   ]
  },
  {
   "cell_type": "markdown",
   "metadata": {},
   "source": [
    "### Cleaning up the values in columns (making them uniform)"
   ]
  },
  {
   "cell_type": "code",
   "execution_count": null,
   "metadata": {},
   "outputs": [],
   "source": [
    "mined_text['VOLUME'] = mined_text['VAR_TEXT'].str.extract(r'( *\\d+ ml| *\\d+l| *\\d+,\\d+ *l| *\\d+ l)',flags=re.IGNORECASE)\n",
    "mined_text['VOLUME'] = mined_text['VOLUME'].str.replace(r'L',' L',regex=True)\n",
    "mined_text['VOLUME'] = mined_text['VOLUME'].str.replace(r'l',' L',regex=True)\n",
    "\n",
    "\n",
    "mined_text['VOLUME'] = mined_text['VOLUME'].str.replace(r'  L',' L',regex=True)\n",
    "mined_text['VOLUME'] = mined_text['VOLUME'].str.replace(r'm L','mL',regex=True)\n",
    "\n",
    "mined_text['VOLUME_EINHEIT'] = mined_text['VOLUME'].str.extract(r'(L|mL)')\n",
    "mined_text['VOLUME'] = mined_text['VOLUME'].str.replace(r'[L|mL]','',regex=True)"
   ]
  },
  {
   "cell_type": "code",
   "execution_count": null,
   "metadata": {},
   "outputs": [],
   "source": [
    "mined_text['HOHE'] = mined_text['HOHE'].str.replace('cm',' cm')\n",
    "mined_text['HOHE'] = mined_text['HOHE'].str.replace('  cm',' cm')\n"
   ]
  },
  {
   "cell_type": "code",
   "execution_count": null,
   "metadata": {},
   "outputs": [],
   "source": [
    "mined_text['BODEN'] = mined_text['BODEN'].str.replace(' Ø','')\n",
    "mined_text['BODEN'] = mined_text['BODEN'].str.replace(' ø','')"
   ]
  },
  {
   "cell_type": "code",
   "execution_count": null,
   "metadata": {},
   "outputs": [],
   "source": [
    "mined_text['STUECK'] = mined_text['STUECK'].replace(r'-tlg.|-tlg |\\dtlg.|-teilig|\\dtlg ',' tlg.',regex=True)\n",
    "mined_text['STUECK'] = mined_text['STUECK'].lstrip()"
   ]
  },
  {
   "cell_type": "code",
   "execution_count": null,
   "metadata": {},
   "outputs": [],
   "source": [
    "text = mined_text['MASSEN'].str.split(r'x|, ')\n",
    "\n",
    "df = pd.DataFrame(text)\n",
    "\n",
    "df['MASSEN_1'] = ''\n",
    "df['MASSEN_2'] = ''\n",
    "df['MASSEN_3'] = ''\n",
    "\n",
    "for index, row in df.iterrows():\n",
    "    numbers = row['MASSEN']\n",
    "    if isinstance(numbers, list):\n",
    "        if len(numbers) == 1:\n",
    "            df.at[index, 'MASSEN_1'] = numbers[0]\n",
    "        elif len(numbers) == 2:\n",
    "            df.at[index, 'MASSEN_1'] = numbers[0]\n",
    "            df.at[index, 'MASSEN_2'] = numbers[1]\n",
    "        elif len(numbers) == 3:\n",
    "            df.at[index, 'MASSEN_1'] = numbers[0]\n",
    "            df.at[index, 'MASSEN_2'] = numbers[1]\n",
    "            df.at[index, 'MASSEN_3'] = numbers[2]\n",
    "\n",
    "df.drop(columns=['MASSEN'], inplace=True)\n",
    "\n",
    "mined_text['MASSEN_1'] = df['MASSEN_1']\n",
    "mined_text['MASSEN_2'] = df['MASSEN_2']\n",
    "mined_text['MASSEN_3'] = df['MASSEN_3']"
   ]
  },
  {
   "cell_type": "code",
   "execution_count": null,
   "metadata": {},
   "outputs": [],
   "source": [
    "new_data = mined_text['VAR_TEXT'].str.extractall(r'(edelstahl|ohne keramik|Cristal|Guss-Aluminium|Gussaluminium|Anti- haftbeschichtung|titan|kupfer|edelst.|keramik|Gußeisen|Gusseisen|Guss|eisen|holz|porzellan)',flags=re.IGNORECASE).groupby(level=0).agg(','.join)\n",
    "\n",
    "df_l = pd.DataFrame(new_data)\n",
    "new_df = df_l[0].str.split(',')\n",
    "# new_df = new_df.str.capitalize()"
   ]
  },
  {
   "cell_type": "code",
   "execution_count": null,
   "metadata": {},
   "outputs": [],
   "source": [
    "df = pd.DataFrame(new_df)\n",
    "\n",
    "df['MATERIAL_1'] = ''\n",
    "df['MATERIAL_2'] = ''\n",
    "df['MATERIAL_3'] = ''\n",
    "\n",
    "\n",
    "for index, row in df.iterrows():\n",
    "    numbers = row[0]\n",
    "    if isinstance(numbers, list):\n",
    "        if len(numbers) == 1:\n",
    "            df.at[index, 'MATERIAL_1'] = numbers[0]\n",
    "        elif len(numbers) == 2:\n",
    "            df.at[index, 'MATERIAL_1'] = numbers[0]\n",
    "            df.at[index, 'MATERIAL_2'] = numbers[1]\n",
    "        elif len(numbers) == 3:\n",
    "            df.at[index, 'MATERIAL_1'] = numbers[0]\n",
    "            df.at[index, 'MATERIAL_2'] = numbers[1]\n",
    "            df.at[index, 'MATERIAL_3'] = numbers[2]\n",
    "\n"
   ]
  },
  {
   "cell_type": "code",
   "execution_count": null,
   "metadata": {},
   "outputs": [],
   "source": [
    "mined_text['MATERIAL_1'] = df['MATERIAL_1']\n",
    "mined_text['MATERIAL_2'] = df['MATERIAL_2']\n",
    "mined_text['MATERIAL_3'] = df['MATERIAL_3']\n",
    "# mined_text.drop(columns=['MATERIAL'], inplace=True)\n",
    "\n",
    "mined_text['MATERIAL_1'] = mined_text['MATERIAL_1'].str.capitalize()\n",
    "mined_text['MATERIAL_2'] = mined_text['MATERIAL_2'].str.capitalize()\n",
    "mined_text['MATERIAL_3'] = mined_text['MATERIAL_3'].str.capitalize()\n"
   ]
  },
  {
   "cell_type": "code",
   "execution_count": null,
   "metadata": {},
   "outputs": [],
   "source": [
    "mined_text = mined_text[['NUMMER', 'VAR_TEXT', 'GROESSE', 'FARBE', 'VOLUME','VOLUME_EINHEIT', 'MASSEN_1','MASSEN_2','MASSEN_3', 'MASSEN_EINHEIT', 'STUECK',\n",
    "      'GEWICHT', 'HOHE', 'BODEN', 'DECKEL', 'FORM','MATERIAL_1','MATERIAL_2','MATERIAL_3']]"
   ]
  },
  {
   "cell_type": "code",
   "execution_count": null,
   "metadata": {},
   "outputs": [],
   "source": [
    "mined_text.to_excel('kuchen_gerate_mined_sample.xlsx')"
   ]
  }
 ],
 "metadata": {
  "kernelspec": {
   "display_name": "Python 3",
   "language": "python",
   "name": "python3"
  },
  "language_info": {
   "codemirror_mode": {
    "name": "ipython",
    "version": 3
   },
   "file_extension": ".py",
   "mimetype": "text/x-python",
   "name": "python",
   "nbconvert_exporter": "python",
   "pygments_lexer": "ipython3",
   "version": "3.12.3"
  }
 },
 "nbformat": 4,
 "nbformat_minor": 2
}
