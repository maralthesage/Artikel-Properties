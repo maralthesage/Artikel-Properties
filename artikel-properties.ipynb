{
 "cells": [
  {
   "cell_type": "code",
   "execution_count": 66,
   "metadata": {},
   "outputs": [],
   "source": [
    "import pandas as pd\n",
    "import matplotlib.pyplot as plt\n",
    "import seaborn as sns\n",
    "import math\n",
    "import regex as re\n",
    "from values import *"
   ]
  },
  {
   "cell_type": "code",
   "execution_count": 67,
   "metadata": {},
   "outputs": [],
   "source": [
    "val = Values()"
   ]
  },
  {
   "cell_type": "code",
   "execution_count": 123,
   "metadata": {},
   "outputs": [
    {
     "name": "stderr",
     "output_type": "stream",
     "text": [
      "/var/folders/5j/sk834jzs3cg8kh3yp7743_ym0000gp/T/ipykernel_8016/1733022944.py:2: DtypeWarning: Columns (0,2,3,14,16,18,22,24,25,26,28,29,30,60,61,62,63,64,65,71,75,76,97,99,100,111,113,115,119,121,122,123,125,126,127,157,158,159,160,161,162,168,172,173) have mixed types. Specify dtype option on import or set low_memory=False.\n",
      "  marketing_artikel = pd.read_csv(val.marketing_artikel,encoding='latin-1', delimiter=';', on_bad_lines='skip',parse_dates=val.dates,dayfirst=True)\n"
     ]
    }
   ],
   "source": [
    "artikel_df = pd.read_excel(val.shop_file_path)\n",
    "marketing_artikel = pd.read_csv(val.marketing_artikel,encoding='latin-1', delimiter=';', on_bad_lines='skip',parse_dates=val.dates,dayfirst=True)"
   ]
  },
  {
   "cell_type": "code",
   "execution_count": 124,
   "metadata": {},
   "outputs": [
    {
     "name": "stderr",
     "output_type": "stream",
     "text": [
      "/var/folders/5j/sk834jzs3cg8kh3yp7743_ym0000gp/T/ipykernel_8016/189545127.py:3: SettingWithCopyWarning: \n",
      "A value is trying to be set on a copy of a slice from a DataFrame.\n",
      "Try using .loc[row_indexer,col_indexer] = value instead\n",
      "\n",
      "See the caveats in the documentation: https://pandas.pydata.org/pandas-docs/stable/user_guide/indexing.html#returning-a-view-versus-a-copy\n",
      "  warengrps['WARENGR'] = pd.to_numeric(warengrps['WARENGR'],errors='coerce')\n",
      "/var/folders/5j/sk834jzs3cg8kh3yp7743_ym0000gp/T/ipykernel_8016/189545127.py:4: SettingWithCopyWarning: \n",
      "A value is trying to be set on a copy of a slice from a DataFrame\n",
      "\n",
      "See the caveats in the documentation: https://pandas.pydata.org/pandas-docs/stable/user_guide/indexing.html#returning-a-view-versus-a-copy\n",
      "  warengrps.dropna(subset='WARENGR',inplace=True)\n",
      "/var/folders/5j/sk834jzs3cg8kh3yp7743_ym0000gp/T/ipykernel_8016/189545127.py:5: SettingWithCopyWarning: \n",
      "A value is trying to be set on a copy of a slice from a DataFrame.\n",
      "Try using .loc[row_indexer,col_indexer] = value instead\n",
      "\n",
      "See the caveats in the documentation: https://pandas.pydata.org/pandas-docs/stable/user_guide/indexing.html#returning-a-view-versus-a-copy\n",
      "  warengrps['WARENGR'] = warengrps['WARENGR'].astype(int)\n"
     ]
    }
   ],
   "source": [
    "warengrps = marketing_artikel[['NUMMER','WARENGR']]\n",
    "# warengrps['WARENGR'] = warengrps['WARENGR'].astype(float).astype(int)\n",
    "warengrps['WARENGR'] = pd.to_numeric(warengrps['WARENGR'],errors='coerce')\n",
    "warengrps.dropna(subset='WARENGR',inplace=True)\n",
    "warengrps['WARENGR'] = warengrps['WARENGR'].astype(int)"
   ]
  },
  {
   "cell_type": "code",
   "execution_count": 125,
   "metadata": {},
   "outputs": [
    {
     "name": "stderr",
     "output_type": "stream",
     "text": [
      "/var/folders/5j/sk834jzs3cg8kh3yp7743_ym0000gp/T/ipykernel_8016/753874854.py:1: SettingWithCopyWarning: \n",
      "A value is trying to be set on a copy of a slice from a DataFrame\n",
      "\n",
      "See the caveats in the documentation: https://pandas.pydata.org/pandas-docs/stable/user_guide/indexing.html#returning-a-view-versus-a-copy\n",
      "  warengrps.drop_duplicates(subset='NUMMER',inplace=True)\n"
     ]
    }
   ],
   "source": [
    "warengrps.drop_duplicates(subset='NUMMER',inplace=True)"
   ]
  },
  {
   "cell_type": "code",
   "execution_count": 126,
   "metadata": {},
   "outputs": [],
   "source": [
    "artikels = artikel_df[['StoreId','Name','Beschreibung','Price', 'Var_Text','Farbe','Zutatenliste']]\n",
    "# artikels.drop_duplicates(subset='ProdIndex',inplace=True)"
   ]
  },
  {
   "cell_type": "code",
   "execution_count": 127,
   "metadata": {},
   "outputs": [
    {
     "name": "stderr",
     "output_type": "stream",
     "text": [
      "/var/folders/5j/sk834jzs3cg8kh3yp7743_ym0000gp/T/ipykernel_8016/974758991.py:1: SettingWithCopyWarning: \n",
      "A value is trying to be set on a copy of a slice from a DataFrame.\n",
      "Try using .loc[row_indexer,col_indexer] = value instead\n",
      "\n",
      "See the caveats in the documentation: https://pandas.pydata.org/pandas-docs/stable/user_guide/indexing.html#returning-a-view-versus-a-copy\n",
      "  artikels['Number'] = artikels['StoreId'].str.split().str[0]\n"
     ]
    }
   ],
   "source": [
    "artikels['Number'] = artikels['StoreId'].str.split().str[0]\n"
   ]
  },
  {
   "cell_type": "code",
   "execution_count": 128,
   "metadata": {},
   "outputs": [
    {
     "data": {
      "text/html": [
       "<div>\n",
       "<style scoped>\n",
       "    .dataframe tbody tr th:only-of-type {\n",
       "        vertical-align: middle;\n",
       "    }\n",
       "\n",
       "    .dataframe tbody tr th {\n",
       "        vertical-align: top;\n",
       "    }\n",
       "\n",
       "    .dataframe thead th {\n",
       "        text-align: right;\n",
       "    }\n",
       "</style>\n",
       "<table border=\"1\" class=\"dataframe\">\n",
       "  <thead>\n",
       "    <tr style=\"text-align: right;\">\n",
       "      <th></th>\n",
       "      <th>StoreId</th>\n",
       "      <th>Name</th>\n",
       "      <th>Beschreibung</th>\n",
       "      <th>Price</th>\n",
       "      <th>Var_Text</th>\n",
       "      <th>Farbe</th>\n",
       "      <th>Zutatenliste</th>\n",
       "      <th>Number</th>\n",
       "      <th>NUMMER</th>\n",
       "      <th>WARENGR</th>\n",
       "    </tr>\n",
       "  </thead>\n",
       "  <tbody>\n",
       "    <tr>\n",
       "      <th>0</th>\n",
       "      <td>002M02</td>\n",
       "      <td>Piccolo 0,2 l - ein kleines Dankeschön für Ihr...</td>\n",
       "      <td>NaN</td>\n",
       "      <td>0</td>\n",
       "      <td>Gratis Piccolo</td>\n",
       "      <td>NaN</td>\n",
       "      <td>NaN</td>\n",
       "      <td>002M02</td>\n",
       "      <td>002M02</td>\n",
       "      <td>1910.0</td>\n",
       "    </tr>\n",
       "    <tr>\n",
       "      <th>1</th>\n",
       "      <td>001T14</td>\n",
       "      <td>4-tlg. Setangebot: Superleitfähige Hagen Grote...</td>\n",
       "      <td>Präzisionspfannen mit Mehrschicht-Kupfer-Alumi...</td>\n",
       "      <td>19900</td>\n",
       "      <td>4-tlg. Set Angebote</td>\n",
       "      <td>NaN</td>\n",
       "      <td>NaN</td>\n",
       "      <td>001T14</td>\n",
       "      <td>001T14</td>\n",
       "      <td>1209.0</td>\n",
       "    </tr>\n",
       "    <tr>\n",
       "      <th>2</th>\n",
       "      <td>020KD101</td>\n",
       "      <td>Bellini Set - eine Cocktail Legende</td>\n",
       "      <td>&lt;UL&gt; &lt;LI&gt;1 x Champagner Brut - Elegant-trocken...</td>\n",
       "      <td>2995</td>\n",
       "      <td>NaN</td>\n",
       "      <td>NaN</td>\n",
       "      <td>NaN</td>\n",
       "      <td>020KD101</td>\n",
       "      <td>020KD101</td>\n",
       "      <td>1310.0</td>\n",
       "    </tr>\n",
       "    <tr>\n",
       "      <th>3</th>\n",
       "      <td>260N01</td>\n",
       "      <td>Original provenzalische Ratatouille</td>\n",
       "      <td>&lt;ul&gt;&lt;li&gt;Mit sonnenverwöhntem Gemüse aus Südfra...</td>\n",
       "      <td>1695</td>\n",
       "      <td>Provenzalische Ratatouille 520 g</td>\n",
       "      <td>NaN</td>\n",
       "      <td>&lt;B&gt;Ratatouille Gemüseeintopf&lt;/B&gt; &lt;BR&gt;&lt;BR&gt;&lt;B&gt;Zu...</td>\n",
       "      <td>260N01</td>\n",
       "      <td>260N01</td>\n",
       "      <td>1301.0</td>\n",
       "    </tr>\n",
       "    <tr>\n",
       "      <th>4</th>\n",
       "      <td>260N02</td>\n",
       "      <td>Original provenzalisches Auberginenragout</td>\n",
       "      <td>&lt;ul&gt;&lt;li&gt;Mit sonnenverwöhntem Gemüse aus Südfra...</td>\n",
       "      <td>1695</td>\n",
       "      <td>Provenzalisches Auberginen- ragout 510 g</td>\n",
       "      <td>NaN</td>\n",
       "      <td>&lt;b&gt;Aubergine Gemüseeintopf&lt;/b&gt;  &lt;br&gt;&lt;br&gt;  &lt;b&gt;Z...</td>\n",
       "      <td>260N02</td>\n",
       "      <td>260N02</td>\n",
       "      <td>1301.0</td>\n",
       "    </tr>\n",
       "    <tr>\n",
       "      <th>...</th>\n",
       "      <td>...</td>\n",
       "      <td>...</td>\n",
       "      <td>...</td>\n",
       "      <td>...</td>\n",
       "      <td>...</td>\n",
       "      <td>...</td>\n",
       "      <td>...</td>\n",
       "      <td>...</td>\n",
       "      <td>...</td>\n",
       "      <td>...</td>\n",
       "    </tr>\n",
       "    <tr>\n",
       "      <th>23892</th>\n",
       "      <td>364HP03</td>\n",
       "      <td>2er-Set: Duftende Gewürz-Bäumchen</td>\n",
       "      <td>Bunt mit Perlen, Beeren und Tannenzapfen gesch...</td>\n",
       "      <td>7490</td>\n",
       "      <td>2er-Set Gewürzbaum (klein + groß)</td>\n",
       "      <td>NaN</td>\n",
       "      <td>NaN</td>\n",
       "      <td>364HP03</td>\n",
       "      <td>364HP03</td>\n",
       "      <td>2240.0</td>\n",
       "    </tr>\n",
       "    <tr>\n",
       "      <th>23893</th>\n",
       "      <td>039HF40     GO</td>\n",
       "      <td>3er Set: Schmale LED Echtwachskerzen für dauer...</td>\n",
       "      <td>&lt;ul&gt;&lt;li&gt;Stilvolle Echtwachskerzen&lt;/li&gt;&lt;li&gt;Eleg...</td>\n",
       "      <td>4985</td>\n",
       "      <td>3er Set LED Kerzen, Größen S, M, L, gold</td>\n",
       "      <td>Gold</td>\n",
       "      <td>NaN</td>\n",
       "      <td>039HF40</td>\n",
       "      <td>039HF40</td>\n",
       "      <td>2240.0</td>\n",
       "    </tr>\n",
       "    <tr>\n",
       "      <th>23894</th>\n",
       "      <td>039HF40     R</td>\n",
       "      <td>3er Set: Schmale LED Echtwachskerzen für dauer...</td>\n",
       "      <td>&lt;ul&gt;&lt;li&gt;Stilvolle Echtwachskerzen&lt;/li&gt;&lt;li&gt;Eleg...</td>\n",
       "      <td>4985</td>\n",
       "      <td>3er Set LED Kerzen, Größen S, M, L, rot</td>\n",
       "      <td>Rot</td>\n",
       "      <td>NaN</td>\n",
       "      <td>039HF40</td>\n",
       "      <td>039HF40</td>\n",
       "      <td>2240.0</td>\n",
       "    </tr>\n",
       "    <tr>\n",
       "      <th>23895</th>\n",
       "      <td>039HF40     SI</td>\n",
       "      <td>3er Set: Schmale LED Echtwachskerzen für dauer...</td>\n",
       "      <td>&lt;ul&gt;&lt;li&gt;Stilvolle Echtwachskerzen&lt;/li&gt;&lt;li&gt;Eleg...</td>\n",
       "      <td>4985</td>\n",
       "      <td>3er Set LED Kerzen, Größen S, M, L, silber</td>\n",
       "      <td>Silber</td>\n",
       "      <td>NaN</td>\n",
       "      <td>039HF40</td>\n",
       "      <td>039HF40</td>\n",
       "      <td>2240.0</td>\n",
       "    </tr>\n",
       "    <tr>\n",
       "      <th>23896</th>\n",
       "      <td>018HC10</td>\n",
       "      <td>3 teiliges Set: Unvergängliche Amaryllis mit B...</td>\n",
       "      <td>&lt;ul&gt;&lt;li&gt;Hochwertige Kunstblumen&lt;/li&gt;&lt;li&gt;Für za...</td>\n",
       "      <td>12985</td>\n",
       "      <td>Amaryllis, 3 teiliges Set, Farben:  Rot, Creme...</td>\n",
       "      <td>NaN</td>\n",
       "      <td>NaN</td>\n",
       "      <td>018HC10</td>\n",
       "      <td>018HC10</td>\n",
       "      <td>2290.0</td>\n",
       "    </tr>\n",
       "  </tbody>\n",
       "</table>\n",
       "<p>23897 rows × 10 columns</p>\n",
       "</div>"
      ],
      "text/plain": [
       "              StoreId                                               Name  \\\n",
       "0              002M02  Piccolo 0,2 l - ein kleines Dankeschön für Ihr...   \n",
       "1              001T14  4-tlg. Setangebot: Superleitfähige Hagen Grote...   \n",
       "2            020KD101                Bellini Set - eine Cocktail Legende   \n",
       "3              260N01                Original provenzalische Ratatouille   \n",
       "4              260N02          Original provenzalisches Auberginenragout   \n",
       "...               ...                                                ...   \n",
       "23892         364HP03                  2er-Set: Duftende Gewürz-Bäumchen   \n",
       "23893  039HF40     GO  3er Set: Schmale LED Echtwachskerzen für dauer...   \n",
       "23894   039HF40     R  3er Set: Schmale LED Echtwachskerzen für dauer...   \n",
       "23895  039HF40     SI  3er Set: Schmale LED Echtwachskerzen für dauer...   \n",
       "23896         018HC10  3 teiliges Set: Unvergängliche Amaryllis mit B...   \n",
       "\n",
       "                                            Beschreibung  Price  \\\n",
       "0                                                    NaN      0   \n",
       "1      Präzisionspfannen mit Mehrschicht-Kupfer-Alumi...  19900   \n",
       "2      <UL> <LI>1 x Champagner Brut - Elegant-trocken...   2995   \n",
       "3      <ul><li>Mit sonnenverwöhntem Gemüse aus Südfra...   1695   \n",
       "4      <ul><li>Mit sonnenverwöhntem Gemüse aus Südfra...   1695   \n",
       "...                                                  ...    ...   \n",
       "23892  Bunt mit Perlen, Beeren und Tannenzapfen gesch...   7490   \n",
       "23893  <ul><li>Stilvolle Echtwachskerzen</li><li>Eleg...   4985   \n",
       "23894  <ul><li>Stilvolle Echtwachskerzen</li><li>Eleg...   4985   \n",
       "23895  <ul><li>Stilvolle Echtwachskerzen</li><li>Eleg...   4985   \n",
       "23896  <ul><li>Hochwertige Kunstblumen</li><li>Für za...  12985   \n",
       "\n",
       "                                                Var_Text   Farbe  \\\n",
       "0                                         Gratis Piccolo     NaN   \n",
       "1                                    4-tlg. Set Angebote     NaN   \n",
       "2                                                    NaN     NaN   \n",
       "3                       Provenzalische Ratatouille 520 g     NaN   \n",
       "4               Provenzalisches Auberginen- ragout 510 g     NaN   \n",
       "...                                                  ...     ...   \n",
       "23892                  2er-Set Gewürzbaum (klein + groß)     NaN   \n",
       "23893           3er Set LED Kerzen, Größen S, M, L, gold    Gold   \n",
       "23894            3er Set LED Kerzen, Größen S, M, L, rot     Rot   \n",
       "23895         3er Set LED Kerzen, Größen S, M, L, silber  Silber   \n",
       "23896  Amaryllis, 3 teiliges Set, Farben:  Rot, Creme...     NaN   \n",
       "\n",
       "                                            Zutatenliste    Number    NUMMER  \\\n",
       "0                                                    NaN    002M02    002M02   \n",
       "1                                                    NaN    001T14    001T14   \n",
       "2                                                    NaN  020KD101  020KD101   \n",
       "3      <B>Ratatouille Gemüseeintopf</B> <BR><BR><B>Zu...    260N01    260N01   \n",
       "4      <b>Aubergine Gemüseeintopf</b>  <br><br>  <b>Z...    260N02    260N02   \n",
       "...                                                  ...       ...       ...   \n",
       "23892                                                NaN   364HP03   364HP03   \n",
       "23893                                                NaN   039HF40   039HF40   \n",
       "23894                                                NaN   039HF40   039HF40   \n",
       "23895                                                NaN   039HF40   039HF40   \n",
       "23896                                                NaN   018HC10   018HC10   \n",
       "\n",
       "       WARENGR  \n",
       "0       1910.0  \n",
       "1       1209.0  \n",
       "2       1310.0  \n",
       "3       1301.0  \n",
       "4       1301.0  \n",
       "...        ...  \n",
       "23892   2240.0  \n",
       "23893   2240.0  \n",
       "23894   2240.0  \n",
       "23895   2240.0  \n",
       "23896   2290.0  \n",
       "\n",
       "[23897 rows x 10 columns]"
      ]
     },
     "execution_count": 128,
     "metadata": {},
     "output_type": "execute_result"
    }
   ],
   "source": [
    "artikels_mit_wrgp = pd.merge(artikels,warengrps,how='left',left_on='Number',right_on='NUMMER')\n",
    "artikels_mit_wrgp"
   ]
  },
  {
   "cell_type": "code",
   "execution_count": 129,
   "metadata": {},
   "outputs": [],
   "source": [
    "artikels_mit_wrgp = artikels_mit_wrgp[artikels_mit_wrgp['NUMMER'].isna()==False]"
   ]
  },
  {
   "cell_type": "code",
   "execution_count": 130,
   "metadata": {},
   "outputs": [
    {
     "name": "stderr",
     "output_type": "stream",
     "text": [
      "/var/folders/5j/sk834jzs3cg8kh3yp7743_ym0000gp/T/ipykernel_8016/4091640079.py:1: SettingWithCopyWarning: \n",
      "A value is trying to be set on a copy of a slice from a DataFrame.\n",
      "Try using .loc[row_indexer,col_indexer] = value instead\n",
      "\n",
      "See the caveats in the documentation: https://pandas.pydata.org/pandas-docs/stable/user_guide/indexing.html#returning-a-view-versus-a-copy\n",
      "  artikels_mit_wrgp['WARENGR'] = artikels_mit_wrgp['WARENGR'].astype(int)\n"
     ]
    }
   ],
   "source": [
    "artikels_mit_wrgp['WARENGR'] = artikels_mit_wrgp['WARENGR'].astype(int)"
   ]
  },
  {
   "cell_type": "code",
   "execution_count": 131,
   "metadata": {},
   "outputs": [],
   "source": [
    "kuchen_gerate = artikels_mit_wrgp[artikels_mit_wrgp['WARENGR'].isin(val.kuchengerate_wr_list)]\n",
    "kuchen_gerate = kuchen_gerate[['WARENGR','NUMMER','Name','Beschreibung','Price','Var_Text']]\n",
    "kuchen_gerate = kuchen_gerate.rename(columns={'Name':'NAME','Beschreibung':'BESCHREIBUNG','Price':'PRICE','Var_Text':'VAR_TEXT'})"
   ]
  },
  {
   "cell_type": "code",
   "execution_count": 132,
   "metadata": {},
   "outputs": [],
   "source": [
    "kuchen_gerate['VAR_TEXT'] = kuchen_gerate['VAR_TEXT'].str.replace(' ',' ',regex=True)"
   ]
  },
  {
   "cell_type": "code",
   "execution_count": 133,
   "metadata": {},
   "outputs": [
    {
     "name": "stdout",
     "output_type": "stream",
     "text": [
      "<class 'pandas.core.frame.DataFrame'>\n",
      "Index: 943 entries, 1 to 23708\n",
      "Data columns (total 6 columns):\n",
      " #   Column        Non-Null Count  Dtype \n",
      "---  ------        --------------  ----- \n",
      " 0   WARENGR       943 non-null    int64 \n",
      " 1   NUMMER        943 non-null    object\n",
      " 2   NAME          943 non-null    object\n",
      " 3   BESCHREIBUNG  932 non-null    object\n",
      " 4   PRICE         943 non-null    int64 \n",
      " 5   VAR_TEXT      897 non-null    object\n",
      "dtypes: int64(2), object(4)\n",
      "memory usage: 51.6+ KB\n"
     ]
    }
   ],
   "source": [
    "kuchen_gerate.info()"
   ]
  },
  {
   "cell_type": "code",
   "execution_count": 134,
   "metadata": {},
   "outputs": [],
   "source": [
    "for id,item in enumerate(kuchen_gerate['BESCHREIBUNG']):\n",
    "    kuchen_gerate = kuchen_gerate.dropna(subset='BESCHREIBUNG')\n"
   ]
  },
  {
   "cell_type": "code",
   "execution_count": 135,
   "metadata": {},
   "outputs": [
    {
     "data": {
      "text/plain": [
       "1        Präzisionspfannen mit Mehrschicht-Kupfer-Alumi...\n",
       "15       <ul>   <li>Automatisches Halten der gewählten ...\n",
       "159      <ul><li>Metall Gitternetz</li><li>Kratzresiste...\n",
       "160      <ul><li>Metall Gitternetz</li><li>Kratzresiste...\n",
       "161      <ul><li>Metall Gitternetz</li><li>Kratzresiste...\n",
       "                               ...                        \n",
       "11203    Besser braten: Geschmiedete Le Creuset Alumini...\n",
       "11317    <ul> <li>Ober- und Unterpfanne als vollwertige...\n",
       "11334    <P>Diese Hochraum-Pfannen fertigen wir nach un...\n",
       "11335    <ul><li>Metall Gitternetz</li><li>Kratzresiste...\n",
       "11336    <P>Auf allen Herdarten ist Kupfer der beste Wä...\n",
       "Name: BESCHREIBUNG, Length: 932, dtype: object"
      ]
     },
     "execution_count": 135,
     "metadata": {},
     "output_type": "execute_result"
    }
   ],
   "source": [
    "kuchen_gerate['BESCHREIBUNG']"
   ]
  },
  {
   "cell_type": "code",
   "execution_count": 136,
   "metadata": {},
   "outputs": [
    {
     "data": {
      "text/plain": [
       "[]"
      ]
     },
     "execution_count": 136,
     "metadata": {},
     "output_type": "execute_result"
    }
   ],
   "source": [
    "kuchen_gerate['BESCHREIBUNG'] = kuchen_gerate['BESCHREIBUNG'].str.replace(r'<p>|</p>|<ul>|</ul>|<li>|</li>|<br>|<b>|</b>|<span.*>|<font.*>|<strong>|</strong>',' ',regex=True,case=False)\n",
    "list(kuchen_gerate[kuchen_gerate['BESCHREIBUNG'].str.contains('<')]['BESCHREIBUNG'])"
   ]
  },
  {
   "cell_type": "markdown",
   "metadata": {},
   "source": [
    "### Cleaning unwanted characters and rows"
   ]
  },
  {
   "cell_type": "code",
   "execution_count": 137,
   "metadata": {},
   "outputs": [],
   "source": [
    "kuchen_gerate['BESCHREIBUNG'] = kuchen_gerate['BESCHREIBUNG'].str.replace('&nbsp_',' ')\n",
    "kuchen_gerate['BESCHREIBUNG'] =kuchen_gerate['BESCHREIBUNG'].str.replace('&Oslash',' ')\n",
    "# kuchen_gerate['BESCHREIBUNG'] =kuchen_gerate['BESCHREIBUNG'].str.replace('<br>',' ')\n",
    "\n",
    "# kuchen_gerate = kuchen_gerate[kuchen_gerate['WM'].isna() == True]\n",
    "kuchen_gerate = kuchen_gerate[kuchen_gerate['NUMMER'].str.match(r'^\\w+S$') == False]\n",
    "kuchen_gerate = kuchen_gerate[kuchen_gerate['NUMMER'].str.match(r'^\\w+P$') == False]\n"
   ]
  },
  {
   "cell_type": "code",
   "execution_count": 161,
   "metadata": {},
   "outputs": [],
   "source": [
    "## creating a copy of the original text, to clean it up with the extracted patterns\n",
    "mined_text = kuchen_gerate[['NUMMER','NAME','BESCHREIBUNG']].copy()\n",
    "mined_text['REMAINED_TEXT'] = mined_text['BESCHREIBUNG'].copy()"
   ]
  },
  {
   "cell_type": "code",
   "execution_count": 162,
   "metadata": {},
   "outputs": [],
   "source": [
    "## Extracting sizes from text\n",
    "mined_text.loc[mined_text['BESCHREIBUNG'].str.contains(r' klein *',case=False),'GROESSE'] = 'S'\n",
    "mined_text.loc[mined_text['BESCHREIBUNG'].str.contains(r' *groß *|großer* *',case=False),'GROESSE'] = 'L'\n",
    "mined_text.loc[mined_text['BESCHREIBUNG'].str.contains(r' mittel *',case=False),'GROESSE'] = 'M'\n",
    "mined_text['REMAINED_TEXT'] = mined_text['REMAINED_TEXT'].str.replace(r' *klein *| groß *| mittel *|großer* *','',regex=True,case=False)"
   ]
  },
  {
   "cell_type": "code",
   "execution_count": 163,
   "metadata": {},
   "outputs": [],
   "source": [
    "## Extracting colors\n",
    "mined_text['FARBE'] = mined_text['BESCHREIBUNG'].str.extract(r'(kirschrot|ofenrot|rot|orange|gelb|blau|schwarz|weiß|weiss|grün|silber|creme|grau|blu |dijongelb| \\\n",
    "                                                         |Elfenbein|gold|aubergine|Dunkelgrün|dunkel- braun|braun)',flags=re.IGNORECASE)\n",
    "mined_text['FARBE'] = mined_text['FARBE'].str.capitalize()\n",
    "mined_text['REMAINED_TEXT'] = mined_text['REMAINED_TEXT'].str.replace(r'kirschrot|ofenrot|rot|orange|gelb|blau|schwarz|weiß|weiss|grün|silber|creme|grau|blu |dijongelb|Elfenbein|gold| \\\n",
    "                                                                |aubergine|aubergine|Dunkelgrün|dunkel- braun|braun','',regex=True, case=False)"
   ]
  },
  {
   "cell_type": "code",
   "execution_count": 164,
   "metadata": {},
   "outputs": [],
   "source": [
    "## Extracting number of items\n",
    "mined_text['STUECK'] = mined_text['BESCHREIBUNG'].str.extract(r'( \\d+ Stück)',flags=re.IGNORECASE)\n",
    "mined_text['REMAINED_TEXT'] = mined_text['REMAINED_TEXT'].str.replace(r' \\d+ Stück','',regex=True, case=False)"
   ]
  },
  {
   "cell_type": "code",
   "execution_count": 165,
   "metadata": {},
   "outputs": [],
   "source": [
    "## Extracting number of items in sets\n",
    "mined_text['TEILIG'] = mined_text['BESCHREIBUNG'].str.extract(r'( *\\d+-tlg.|\\d+-teilig|\\d+tlg.*|\\d+-*er set|\\d+ set|\\d+ ?ply)',flags=re.IGNORECASE)\n",
    "mined_text['REMAINED_TEXT'] = mined_text['REMAINED_TEXT'].str.replace(r' *\\d+-tlg.|\\d+-* *teilig[er]*|\\d+tlg.*|\\d+-*er set|\\d+ set|\\d+ ?ply','',regex=True, case=False)\n",
    "\n",
    "mined_text['TEILIG'] = mined_text['TEILIG'].str.replace(r'-tlg.|-tlg |tlg.|-teilig|tlg *',' tlg.',regex=True,case=False)\n",
    "mined_text['TEILIG'] = mined_text['TEILIG'].str.lstrip()"
   ]
  },
  {
   "cell_type": "code",
   "execution_count": 166,
   "metadata": {},
   "outputs": [],
   "source": [
    "## Extracting weight patterns\n",
    "mined_text['GEWICHT'] = mined_text['BESCHREIBUNG'].str.extract(r'([\\d,]*\\d+ *kg|\\d+ *g |\\d+ *gram)',flags=re.IGNORECASE)\n",
    "mined_text['REMAINED_TEXT'] = mined_text['REMAINED_TEXT'].str.replace(r'[\\d,]*\\d+ *kg|\\d+ *g |\\d+ *gram','',regex=True,case=False)"
   ]
  },
  {
   "cell_type": "code",
   "execution_count": 167,
   "metadata": {},
   "outputs": [],
   "source": [
    "## Extracting height patterns\n",
    "mined_text['HOHE'] = mined_text['BESCHREIBUNG'].str.extract(r'(\\d+ *cm hoch|Pfanne hoch \\(\\d+ cm\\)|\\d+,\\d+ *cm hoch|hoch \\d+ *cm|\\d+,*\\d* cm hoch|hoch [Ø|ø] \\d+ *cm)',flags=re.IGNORECASE)\n",
    "mined_text['REMAINED_TEXT'] = mined_text['REMAINED_TEXT'].str.replace(r'\\d+ *cm hoch|Pfanne hoch \\(\\d+ cm\\)|\\d+,\\d+ *cm hoch|hoch \\d+ *cm|\\d+,*\\d* cm hoch|hoch [Ø|ø] \\d+ *cm','',regex=True, case=False)\n",
    "\n",
    "## cleaning up the height formats\n",
    "mined_text['HOHE'] = mined_text['HOHE'].str.replace('cm',' cm')\n",
    "mined_text['HOHE'] = mined_text['HOHE'].str.replace('  cm',' cm')"
   ]
  },
  {
   "cell_type": "code",
   "execution_count": 168,
   "metadata": {},
   "outputs": [],
   "source": [
    "### Extracting floor sizes\n",
    "mined_text['BODEN'] = mined_text['BESCHREIBUNG'].str.extract(r'(Boden [Ø |_]*\\d+[,\\d]* cm|Boden [Ø |_]*\\d+[,\\d]* mm| \\\n",
    "                                                         Bodendurchmesser [Ø |_]*\\d+[,\\d]* cm|Boden-Kontaktfläche [Ø |_]*\\d+[,\\d]* cm)',flags=re.IGNORECASE)\n",
    "mined_text['REMAINED_TEXT'] = mined_text['REMAINED_TEXT'].str.replace(r'Boden [Ø |_]*\\d+[,\\d]* cm|Boden [Ø |_]*\\d+[,\\d]* mm|Bodendurchmesser [Ø |_]*\\d+[,\\d]* cm| \\\n",
    "                                                                  Boden-Kontaktfläche [Ø |_]*\\d+[,\\d]* cm','',regex=True, case=False)\n",
    "\n",
    "## Cleaning up the boden formats\n",
    "mined_text['BODEN'] = mined_text['BODEN'].str.replace(' Ø','')\n",
    "mined_text['BODEN'] = mined_text['BODEN'].str.replace(' ø','')"
   ]
  },
  {
   "cell_type": "code",
   "execution_count": 169,
   "metadata": {},
   "outputs": [],
   "source": [
    "## Extracting info about the Deckel\n",
    "mined_text['DECKEL'] = mined_text['BESCHREIBUNG'].str.extract(r'(mit deckel|ohne deckel|mit glasdeckel|m.Deckel|\\+Deckel|\\+ Deckel|\\(Inkl. Deckel\\))',flags=re.IGNORECASE)\n",
    "mined_text['REMAINED_TEXT'] = mined_text['REMAINED_TEXT'].str.replace(r'mit deckel|ohne deckel|mit glasdeckel|m.Deckel|\\+Deckel|\\+ Deckel|\\(Inkl. Deckel\\)','',regex=True, case=False)"
   ]
  },
  {
   "cell_type": "code",
   "execution_count": 170,
   "metadata": {},
   "outputs": [],
   "source": [
    "## Extracting shape info\n",
    "mined_text['FORM'] = mined_text['BESCHREIBUNG'].str.extract(r'(rund|oval[er]*|rechteckige|eckige|rechteckig|eckig|quadratisch)',flags=re.IGNORECASE)\n",
    "mined_text['FORM'] = mined_text['FORM'].str.capitalize()\n",
    "mined_text['REMAINED_TEXT'] = mined_text['REMAINED_TEXT'].str.replace(r'rund|oval[er]*|rechteckige|eckige|rechteckig|eckig|quadratisch','',regex=True, case=False)"
   ]
  },
  {
   "cell_type": "code",
   "execution_count": 171,
   "metadata": {},
   "outputs": [],
   "source": [
    "## Extracting info about the griff\n",
    "mined_text['GRIFF'] = mined_text['BESCHREIBUNG'].str.extract(r'(Gußeisen-* *griffe*n*|Edelstahl-* *griffe|Edelst.-Griffe*n*|Edelstahlgriffe*n*|Gusseisen-* *griffe*n*|EDEL- STAHLgriffe| \\\n",
    "                                                         |Bronze-? ?griffe?n?|Bronzegriffe*n*|Bronze Griffe*n*|mit griffe*n*|griffe*n*|mit \\w+ *griffe*)',flags=re.IGNORECASE)\n",
    "mined_text['REMAINED_TEXT'] = mined_text['REMAINED_TEXT'].str.replace(r'Gußeisen-* *griffe*n*|Edelstahl-* *griffe*n*|Edelst.-Griffe*n*|Edelstahlgriffe*n*|Gusseisen-* *griffe*n*|EDEL- STAHLgriffe| \\\n",
    "                                                         |Bronze-? ?griffe?n?|Bronzegriffe*n*|Bronze Griffe*n*|mit griffe*n*|griffe*n*|mit \\w+ *griffe*n*','',regex=True, case=False)\n"
   ]
  },
  {
   "cell_type": "markdown",
   "metadata": {},
   "source": [
    "### Separating dimensions into separate columns"
   ]
  },
  {
   "cell_type": "code",
   "execution_count": 172,
   "metadata": {},
   "outputs": [],
   "source": [
    "## Extracting the patterns related to size and size units and uniforming the formatting\n",
    "mined_text['MASSEN'] = mined_text['BESCHREIBUNG'].str.extract(r'([\\d,*\\d* x]*[ *\\d,*\\d* x]*[ *\\d,*\\d*] *cm| \\d+mm| \\d+ mm| \\d+cm| \\d+mm|\\d+ cm)',flags=re.IGNORECASE)\n",
    "mined_text['REMAINED_TEXT'] = mined_text['REMAINED_TEXT'].str.replace(r'([\\d+,*\\d* x]*[ *\\d+,*\\d* x]*[ *\\d+,*\\d*] *cm| \\d+mm| \\d+ mm| \\d+cm| \\d+mm|\\d+ cm)','',regex=True,case=False)\n",
    "mined_text['MASSEN'] = mined_text['MASSEN'].str.replace(r'^, ','',regex=True)\n",
    "mined_text['MASSEN'] = mined_text['MASSEN'].str.replace(r'^ *','',regex=True)\n",
    "mined_text['MASSEN'] = mined_text['MASSEN'].str.replace('X','x',regex=True)\n",
    "mined_text['MASSEN'] = mined_text['MASSEN'].str.replace('x',' x ',regex=True)\n",
    "mined_text['MASSEN'] = mined_text['MASSEN'].str.replace('  x  ',' x ',regex=True)\n",
    "mined_text['MASSEN'] = mined_text['MASSEN'].str.replace('cm',' cm',regex=True)\n",
    "mined_text['MASSEN'] = mined_text['MASSEN'].str.replace('  cm',' cm',regex=True)\n",
    "mined_text['MASSEN'] = mined_text['MASSEN'].str.replace('mm',' mm',regex=True)\n",
    "\n",
    "## Separating the measurement unit from the values\n",
    "mined_text['MASSEN_EINHEIT'] = mined_text['MASSEN'].str.extract(r'(cm|mm)')\n",
    "mined_text['MASSEN'] = mined_text['MASSEN'].str.replace(r'[cm|mm]','',regex=True,case=False)"
   ]
  },
  {
   "cell_type": "code",
   "execution_count": 173,
   "metadata": {},
   "outputs": [],
   "source": [
    "## Separating dimensions from one another when there are more than 1\n",
    "text = mined_text['MASSEN'].str.split(r'x|, ')\n",
    "\n",
    "df = pd.DataFrame(text)\n",
    "\n",
    "df['MASSEN_1'] = ''\n",
    "df['MASSEN_2'] = ''\n",
    "df['MASSEN_3'] = ''\n",
    "\n",
    "for index, row in df.iterrows():\n",
    "    numbers = row['MASSEN']\n",
    "    if isinstance(numbers, list):\n",
    "        if len(numbers) == 1:\n",
    "            df.at[index, 'MASSEN_1'] = numbers[0]\n",
    "        elif len(numbers) == 2:\n",
    "            df.at[index, 'MASSEN_1'] = numbers[0]\n",
    "            df.at[index, 'MASSEN_2'] = numbers[1]\n",
    "        elif len(numbers) == 3:\n",
    "            df.at[index, 'MASSEN_1'] = numbers[0]\n",
    "            df.at[index, 'MASSEN_2'] = numbers[1]\n",
    "            df.at[index, 'MASSEN_3'] = numbers[2]\n",
    "\n",
    "df.drop(columns=['MASSEN'], inplace=True)\n",
    "\n",
    "mined_text['MASSEN_1'] = df['MASSEN_1']\n",
    "mined_text['MASSEN_2'] = df['MASSEN_2']\n",
    "mined_text['MASSEN_3'] = df['MASSEN_3']"
   ]
  },
  {
   "cell_type": "code",
   "execution_count": 174,
   "metadata": {},
   "outputs": [],
   "source": [
    "mined_text['TEMPERATUR'] = mined_text['BESCHREIBUNG'].str.extract(r'(von \\d+ °C bis \\d+ °C|bis \\d+ °C|von \\d+ °C)',flags=re.IGNORECASE)\n",
    "mined_text['REMAINED_TEXT'] = mined_text['REMAINED_TEXT'].str.replace(r'von \\d+ °C bis \\d+ °C|bis \\d+ °C|von \\d+ °','',regex=True,case=False)"
   ]
  },
  {
   "cell_type": "markdown",
   "metadata": {},
   "source": [
    "### Cleaning up the values in columns (making them uniform)"
   ]
  },
  {
   "cell_type": "code",
   "execution_count": 175,
   "metadata": {},
   "outputs": [],
   "source": [
    "## Extracting volume and size information and uniforming the formatting\n",
    "mined_text['VOLUME'] = mined_text['BESCHREIBUNG'].str.extract(r'( *\\d+ ml| *\\d+l| *\\d*,*\\d+ *l+[iter]*| *\\d+ l)',flags=re.IGNORECASE)\n",
    "mined_text['REMAINED_TEXT'] = mined_text['REMAINED_TEXT'].str.replace(r' *\\d+ ml| *\\d+l| *\\d*,*\\d+ *l+[iter]*| *\\d+ l','',regex=True,case=False)\n",
    "\n",
    "mined_text['VOLUME'] = mined_text['VOLUME'].str.replace(r'L',' L',regex=True)\n",
    "mined_text['VOLUME'] = mined_text['VOLUME'].str.replace(r'Liter',' L',regex=True,case=False)\n",
    "mined_text['VOLUME'] = mined_text['VOLUME'].str.replace(r'l',' L',regex=True)\n",
    "\n",
    "mined_text['VOLUME'] = mined_text['VOLUME'].str.replace(r'  L',' L',regex=True)\n",
    "mined_text['VOLUME'] = mined_text['VOLUME'].str.replace(r'm L','mL',regex=True)\n",
    "\n",
    "## Separating the measuring unit from the values\n",
    "mined_text['VOLUME_EINHEIT'] = mined_text['VOLUME'].str.extract(r'(L|mL)')\n",
    "mined_text['VOLUME'] = mined_text['VOLUME'].str.replace(r'[L|mL]','',regex=True)\n"
   ]
  },
  {
   "cell_type": "code",
   "execution_count": 176,
   "metadata": {},
   "outputs": [],
   "source": [
    "## Extracting materials (so many variations that can be for different parts of the item)\n",
    "new_data = mined_text['BESCHREIBUNG'].str.extractall(r'(steinzeug|granit|edelstahl|ohne keramik|Guss-Aluminium|Gussaluminium|Guß-* *eisen|Anti-* *haftbeschichtung|titan|kupfer| \\\n",
    "                                                 edelst.|keramik|Gußeisen|Gusseisen|Guss|eisen|holz|porzellan|m. Antihaftversiegelung|Guß- alu|Edelst.)',flags=re.IGNORECASE).groupby(level=0).agg(','.join)\n",
    "mined_text['REMAINED_TEXT'] = mined_text['REMAINED_TEXT'].str.replace(r'(steinzeug|granit|edelstahl|ohne keramik|Guss-Aluminium|Gussaluminium|Guß-* *eisen|Anti- haftbeschichtung|titan|kupfer| \\\n",
    "                                                                  edelst.|keramik|Gußeisen|Gusseisen|Guss|eisen|holz|porzellan|m. Antihaftversiegelung|Guß- alu|Edelst.)','',regex=True,case=False)\n",
    "\n",
    "df_l = pd.DataFrame(new_data)\n",
    "new_df = df_l[0].str.split(',')\n"
   ]
  },
  {
   "cell_type": "code",
   "execution_count": 177,
   "metadata": {},
   "outputs": [],
   "source": [
    "## Transferring material data into separate columns (the data model needs rethinking)\n",
    "df = pd.DataFrame(new_df)\n",
    "\n",
    "df['MATERIAL_1'] = ''\n",
    "df['MATERIAL_2'] = ''\n",
    "df['MATERIAL_3'] = ''\n",
    "\n",
    "\n",
    "for index, row in df.iterrows():\n",
    "    numbers = row[0]\n",
    "    if isinstance(numbers, list):\n",
    "        if len(numbers) == 1:\n",
    "            df.at[index, 'MATERIAL_1'] = numbers[0]\n",
    "        elif len(numbers) == 2:\n",
    "            df.at[index, 'MATERIAL_1'] = numbers[0]\n",
    "            df.at[index, 'MATERIAL_2'] = numbers[1]\n",
    "        elif len(numbers) == 3:\n",
    "            df.at[index, 'MATERIAL_1'] = numbers[0]\n",
    "            df.at[index, 'MATERIAL_2'] = numbers[1]\n",
    "            df.at[index, 'MATERIAL_3'] = numbers[2]\n",
    "\n",
    "## Transferring the cleaned data to the original dataframe\n",
    "\n",
    "mined_text['MATERIAL_1'] = df['MATERIAL_1']\n",
    "mined_text['MATERIAL_2'] = df['MATERIAL_2']\n",
    "mined_text['MATERIAL_3'] = df['MATERIAL_3']\n",
    "\n",
    "## Formatting (Capitalizing) the material items\n",
    "\n",
    "mined_text['MATERIAL_1'] = mined_text['MATERIAL_1'].str.capitalize()\n",
    "mined_text['MATERIAL_2'] = mined_text['MATERIAL_2'].str.capitalize()\n",
    "mined_text['MATERIAL_3'] = mined_text['MATERIAL_3'].str.capitalize()\n",
    "\n"
   ]
  },
  {
   "cell_type": "code",
   "execution_count": 178,
   "metadata": {},
   "outputs": [],
   "source": [
    "## Reordering the columns\n",
    "mined_text = mined_text[['NUMMER','NAME', 'BESCHREIBUNG', 'REMAINED_TEXT','GROESSE', 'FARBE', 'VOLUME','VOLUME_EINHEIT', 'MASSEN_1','MASSEN_2','MASSEN_3', 'MASSEN_EINHEIT', 'STUECK', 'TEILIG', 'TEMPERATUR',\n",
    "      'GRIFF','GEWICHT', 'HOHE', 'BODEN', 'DECKEL', 'FORM','MATERIAL_1','MATERIAL_2','MATERIAL_3']]"
   ]
  },
  {
   "cell_type": "code",
   "execution_count": 179,
   "metadata": {},
   "outputs": [],
   "source": [
    "## Cleaning up the Remaining text (The original product name) from irrelevant characters\n",
    "mined_text['REMAINED_TEXT'] = mined_text['REMAINED_TEXT'].str.replace(r'Ø|ø|\\(\\)|\\d+|inhalt|wiegt ?[ca.]*|\\.|\\+|\\/|farbe','',regex=True,case=False)\n",
    "mined_text['REMAINED_TEXT'] = mined_text['REMAINED_TEXT'].str.replace(r',|-|:',' ',regex=True,case=False)\n",
    "## Removing some problematic cases that couldn't be included in the patterns\n",
    "mined_text['REMAINED_TEXT'] = mined_text['REMAINED_TEXT'].str.replace(r'X X','',regex=True,case=False)\n",
    "mined_text['REMAINED_TEXT'] = mined_text['REMAINED_TEXT'].str.replace(r'\\(\\)','',regex=True,case=False)\n",
    "mined_text['REMAINED_TEXT'] = mined_text['REMAINED_TEXT'].str.replace(r'einzeln?|gesamt| personen| xx | z ','',regex=True,case=False)\n",
    "\n",
    "mined_text['REMAINED_TEXT'] = mined_text['REMAINED_TEXT'].str.replace(r'mit .*','',regex=True,case=False)\n",
    "\n",
    "mined_text['REMAINED_TEXT'] = mined_text['REMAINED_TEXT'].str.replace(r'  ',' ',regex=True,case=False)\n",
    "mined_text['REMAINED_TEXT'] = mined_text['REMAINED_TEXT'].str.replace(r'  ',' ',regex=True,case=False)\n",
    "mined_text['REMAINED_TEXT'] = mined_text['REMAINED_TEXT'].str.lstrip()\n",
    "mined_text['REMAINED_TEXT'] = mined_text['REMAINED_TEXT'].str.rstrip()\n",
    "mined_text['REMAINED_TEXT'] = mined_text['REMAINED_TEXT'].str.replace(r' in$| je lang$','',regex=True,case=False)\n",
    "mined_text['REMAINED_TEXT'] = mined_text['REMAINED_TEXT'].str.title()\n"
   ]
  },
  {
   "cell_type": "code",
   "execution_count": 180,
   "metadata": {},
   "outputs": [
    {
     "data": {
      "text/html": [
       "<div>\n",
       "<style scoped>\n",
       "    .dataframe tbody tr th:only-of-type {\n",
       "        vertical-align: middle;\n",
       "    }\n",
       "\n",
       "    .dataframe tbody tr th {\n",
       "        vertical-align: top;\n",
       "    }\n",
       "\n",
       "    .dataframe thead th {\n",
       "        text-align: right;\n",
       "    }\n",
       "</style>\n",
       "<table border=\"1\" class=\"dataframe\">\n",
       "  <thead>\n",
       "    <tr style=\"text-align: right;\">\n",
       "      <th></th>\n",
       "      <th>NUMMER</th>\n",
       "      <th>NAME</th>\n",
       "      <th>BESCHREIBUNG</th>\n",
       "      <th>REMAINED_TEXT</th>\n",
       "      <th>GROESSE</th>\n",
       "      <th>FARBE</th>\n",
       "      <th>VOLUME</th>\n",
       "      <th>VOLUME_EINHEIT</th>\n",
       "      <th>MASSEN_1</th>\n",
       "      <th>MASSEN_2</th>\n",
       "      <th>...</th>\n",
       "      <th>TEMPERATUR</th>\n",
       "      <th>GRIFF</th>\n",
       "      <th>GEWICHT</th>\n",
       "      <th>HOHE</th>\n",
       "      <th>BODEN</th>\n",
       "      <th>DECKEL</th>\n",
       "      <th>FORM</th>\n",
       "      <th>MATERIAL_1</th>\n",
       "      <th>MATERIAL_2</th>\n",
       "      <th>MATERIAL_3</th>\n",
       "    </tr>\n",
       "  </thead>\n",
       "  <tbody>\n",
       "  </tbody>\n",
       "</table>\n",
       "<p>0 rows × 24 columns</p>\n",
       "</div>"
      ],
      "text/plain": [
       "Empty DataFrame\n",
       "Columns: [NUMMER, NAME, BESCHREIBUNG, REMAINED_TEXT, GROESSE, FARBE, VOLUME, VOLUME_EINHEIT, MASSEN_1, MASSEN_2, MASSEN_3, MASSEN_EINHEIT, STUECK, TEILIG, TEMPERATUR, GRIFF, GEWICHT, HOHE, BODEN, DECKEL, FORM, MATERIAL_1, MATERIAL_2, MATERIAL_3]\n",
       "Index: []\n",
       "\n",
       "[0 rows x 24 columns]"
      ]
     },
     "execution_count": 180,
     "metadata": {},
     "output_type": "execute_result"
    }
   ],
   "source": [
    "mined_text[mined_text['REMAINED_TEXT'].str.contains(r' je lang$',case=False)]"
   ]
  },
  {
   "cell_type": "code",
   "execution_count": 181,
   "metadata": {},
   "outputs": [
    {
     "data": {
      "text/html": [
       "<div>\n",
       "<style scoped>\n",
       "    .dataframe tbody tr th:only-of-type {\n",
       "        vertical-align: middle;\n",
       "    }\n",
       "\n",
       "    .dataframe tbody tr th {\n",
       "        vertical-align: top;\n",
       "    }\n",
       "\n",
       "    .dataframe thead th {\n",
       "        text-align: right;\n",
       "    }\n",
       "</style>\n",
       "<table border=\"1\" class=\"dataframe\">\n",
       "  <thead>\n",
       "    <tr style=\"text-align: right;\">\n",
       "      <th></th>\n",
       "      <th>NUMMER</th>\n",
       "      <th>NAME</th>\n",
       "      <th>BESCHREIBUNG</th>\n",
       "      <th>REMAINED_TEXT</th>\n",
       "      <th>GROESSE</th>\n",
       "      <th>FARBE</th>\n",
       "      <th>VOLUME</th>\n",
       "      <th>VOLUME_EINHEIT</th>\n",
       "      <th>MASSEN_1</th>\n",
       "      <th>MASSEN_2</th>\n",
       "      <th>...</th>\n",
       "      <th>TEMPERATUR</th>\n",
       "      <th>GRIFF</th>\n",
       "      <th>GEWICHT</th>\n",
       "      <th>HOHE</th>\n",
       "      <th>BODEN</th>\n",
       "      <th>DECKEL</th>\n",
       "      <th>FORM</th>\n",
       "      <th>MATERIAL_1</th>\n",
       "      <th>MATERIAL_2</th>\n",
       "      <th>MATERIAL_3</th>\n",
       "    </tr>\n",
       "  </thead>\n",
       "  <tbody>\n",
       "    <tr>\n",
       "      <th>1445</th>\n",
       "      <td>069K03</td>\n",
       "      <td>Schwerer Kupfer Bräter mit besten Wärmeleiteig...</td>\n",
       "      <td>Außen dickwandiges Kupfer, innen Edelstahl ...</td>\n",
       "      <td>Außen Dickwandiges Innen  Anbraten Auf Dem Her...</td>\n",
       "      <td>NaN</td>\n",
       "      <td>Gold</td>\n",
       "      <td>NaN</td>\n",
       "      <td>NaN</td>\n",
       "      <td>2</td>\n",
       "      <td></td>\n",
       "      <td>...</td>\n",
       "      <td>NaN</td>\n",
       "      <td>griffe</td>\n",
       "      <td>2,2 kg</td>\n",
       "      <td>NaN</td>\n",
       "      <td>NaN</td>\n",
       "      <td>NaN</td>\n",
       "      <td>Rund</td>\n",
       "      <td></td>\n",
       "      <td></td>\n",
       "      <td></td>\n",
       "    </tr>\n",
       "    <tr>\n",
       "      <th>2097</th>\n",
       "      <td>069K03</td>\n",
       "      <td>Schwerer Kupfer Bräter mit besten Wärmeleiteig...</td>\n",
       "      <td>Außen dickwandiges Kupfer, innen Edelstahl ...</td>\n",
       "      <td>Außen Dickwandiges Innen  Anbraten Auf Dem Her...</td>\n",
       "      <td>NaN</td>\n",
       "      <td>Gold</td>\n",
       "      <td>NaN</td>\n",
       "      <td>NaN</td>\n",
       "      <td>2</td>\n",
       "      <td></td>\n",
       "      <td>...</td>\n",
       "      <td>NaN</td>\n",
       "      <td>griffe</td>\n",
       "      <td>2,2 kg</td>\n",
       "      <td>NaN</td>\n",
       "      <td>NaN</td>\n",
       "      <td>NaN</td>\n",
       "      <td>Rund</td>\n",
       "      <td></td>\n",
       "      <td></td>\n",
       "      <td></td>\n",
       "    </tr>\n",
       "  </tbody>\n",
       "</table>\n",
       "<p>2 rows × 24 columns</p>\n",
       "</div>"
      ],
      "text/plain": [
       "      NUMMER                                               NAME  \\\n",
       "1445  069K03  Schwerer Kupfer Bräter mit besten Wärmeleiteig...   \n",
       "2097  069K03  Schwerer Kupfer Bräter mit besten Wärmeleiteig...   \n",
       "\n",
       "                                           BESCHREIBUNG  \\\n",
       "1445     Außen dickwandiges Kupfer, innen Edelstahl ...   \n",
       "2097     Außen dickwandiges Kupfer, innen Edelstahl ...   \n",
       "\n",
       "                                          REMAINED_TEXT GROESSE FARBE VOLUME  \\\n",
       "1445  Außen Dickwandiges Innen  Anbraten Auf Dem Her...     NaN  Gold    NaN   \n",
       "2097  Außen Dickwandiges Innen  Anbraten Auf Dem Her...     NaN  Gold    NaN   \n",
       "\n",
       "     VOLUME_EINHEIT MASSEN_1 MASSEN_2  ... TEMPERATUR   GRIFF GEWICHT HOHE  \\\n",
       "1445            NaN      2             ...        NaN  griffe  2,2 kg  NaN   \n",
       "2097            NaN      2             ...        NaN  griffe  2,2 kg  NaN   \n",
       "\n",
       "     BODEN DECKEL  FORM MATERIAL_1 MATERIAL_2 MATERIAL_3  \n",
       "1445   NaN    NaN  Rund                                   \n",
       "2097   NaN    NaN  Rund                                   \n",
       "\n",
       "[2 rows x 24 columns]"
      ]
     },
     "execution_count": 181,
     "metadata": {},
     "output_type": "execute_result"
    }
   ],
   "source": [
    "mined_text[mined_text['REMAINED_TEXT'].str.contains('X X')]"
   ]
  },
  {
   "cell_type": "code",
   "execution_count": 182,
   "metadata": {},
   "outputs": [],
   "source": [
    "## Exporting data into Excel\n",
    "mined_text.to_excel('Exports/kuchen_gerate_mined_sample_1.xlsx')"
   ]
  },
  {
   "cell_type": "code",
   "execution_count": null,
   "metadata": {},
   "outputs": [],
   "source": []
  },
  {
   "cell_type": "code",
   "execution_count": null,
   "metadata": {},
   "outputs": [],
   "source": []
  },
  {
   "cell_type": "code",
   "execution_count": null,
   "metadata": {},
   "outputs": [],
   "source": []
  }
 ],
 "metadata": {
  "kernelspec": {
   "display_name": "Python 3",
   "language": "python",
   "name": "python3"
  },
  "language_info": {
   "codemirror_mode": {
    "name": "ipython",
    "version": 3
   },
   "file_extension": ".py",
   "mimetype": "text/x-python",
   "name": "python",
   "nbconvert_exporter": "python",
   "pygments_lexer": "ipython3",
   "version": "3.12.3"
  }
 },
 "nbformat": 4,
 "nbformat_minor": 2
}
