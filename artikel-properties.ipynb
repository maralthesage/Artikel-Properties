{
 "cells": [
  {
   "cell_type": "code",
   "execution_count": null,
   "metadata": {},
   "outputs": [],
   "source": [
    "import pandas as pd\n",
    "import matplotlib.pyplot as plt\n",
    "import seaborn as sns\n",
    "import math\n",
    "import regex as re\n",
    "from values import *"
   ]
  },
  {
   "cell_type": "code",
   "execution_count": null,
   "metadata": {},
   "outputs": [],
   "source": [
    "val = Values()"
   ]
  },
  {
   "cell_type": "code",
   "execution_count": null,
   "metadata": {},
   "outputs": [],
   "source": [
    "artikel_df = pd.read_excel(val.shop_file_path)\n",
    "marketing_artikel = pd.read_csv(val.marketing_artikel,encoding='latin-1', delimiter=';', on_bad_lines='skip',parse_dates=val.dates,dayfirst=True)"
   ]
  },
  {
   "cell_type": "code",
   "execution_count": null,
   "metadata": {},
   "outputs": [],
   "source": [
    "warengrps = marketing_artikel[['NUMMER','WARENGR']]\n",
    "# warengrps['WARENGR'] = warengrps['WARENGR'].astype(float).astype(int)\n",
    "warengrps['WARENGR'] = pd.to_numeric(warengrps['WARENGR'],errors='coerce')\n",
    "warengrps.dropna(subset='WARENGR',inplace=True)\n",
    "warengrps['WARENGR'] = warengrps['WARENGR'].astype(int)"
   ]
  },
  {
   "cell_type": "code",
   "execution_count": null,
   "metadata": {},
   "outputs": [],
   "source": [
    "warengrps.drop_duplicates(subset='NUMMER',inplace=True)"
   ]
  },
  {
   "cell_type": "code",
   "execution_count": null,
   "metadata": {},
   "outputs": [],
   "source": [
    "artikels = artikel_df[['StoreId','Name','Beschreibung','Price', 'Var_Text','Farbe','Zutatenliste']]\n",
    "# artikels.drop_duplicates(subset='ProdIndex',inplace=True)"
   ]
  },
  {
   "cell_type": "code",
   "execution_count": null,
   "metadata": {},
   "outputs": [],
   "source": [
    "artikels['Number'] = artikels['StoreId'].str.split().str[0]\n"
   ]
  },
  {
   "cell_type": "code",
   "execution_count": null,
   "metadata": {},
   "outputs": [],
   "source": [
    "artikels_mit_wrgp = pd.merge(artikels,warengrps,how='left',left_on='Number',right_on='NUMMER')\n",
    "artikels_mit_wrgp"
   ]
  },
  {
   "cell_type": "code",
   "execution_count": null,
   "metadata": {},
   "outputs": [],
   "source": [
    "artikels_mit_wrgp = artikels_mit_wrgp[artikels_mit_wrgp['NUMMER'].isna()==False]"
   ]
  },
  {
   "cell_type": "code",
   "execution_count": null,
   "metadata": {},
   "outputs": [],
   "source": [
    "artikels_mit_wrgp['WARENGR'] = artikels_mit_wrgp['WARENGR'].astype(int)"
   ]
  },
  {
   "cell_type": "code",
   "execution_count": null,
   "metadata": {},
   "outputs": [],
   "source": [
    "kuchen_gerate = artikels_mit_wrgp[artikels_mit_wrgp['WARENGR'].isin(val.kuchengerate_wr_list)]\n",
    "kuchen_gerate = kuchen_gerate[['WARENGR','NUMMER','Name','Beschreibung','Price','Var_Text']]\n",
    "kuchen_gerate = kuchen_gerate.rename(columns={'Name':'NAME','Beschreibung':'BESCHREIBUNG','Price':'PRICE','Var_Text':'VAR_TEXT'})"
   ]
  },
  {
   "cell_type": "code",
   "execution_count": null,
   "metadata": {},
   "outputs": [],
   "source": [
    "kuchen_gerate['VAR_TEXT'] = kuchen_gerate['VAR_TEXT'].str.replace(' ',' ',regex=True)"
   ]
  },
  {
   "cell_type": "code",
   "execution_count": null,
   "metadata": {},
   "outputs": [],
   "source": [
    "kuchen_gerate.info()"
   ]
  },
  {
   "cell_type": "code",
   "execution_count": null,
   "metadata": {},
   "outputs": [],
   "source": [
    "for id,item in enumerate(kuchen_gerate['BESCHREIBUNG']):\n",
    "    kuchen_gerate = kuchen_gerate.dropna(subset='BESCHREIBUNG')\n"
   ]
  },
  {
   "cell_type": "code",
   "execution_count": null,
   "metadata": {},
   "outputs": [],
   "source": [
    "kuchen_gerate['BESCHREIBUNG']"
   ]
  },
  {
   "cell_type": "code",
   "execution_count": null,
   "metadata": {},
   "outputs": [],
   "source": [
    "kuchen_gerate['BESCHREIBUNG'] = kuchen_gerate['BESCHREIBUNG'].str.replace(r'<p>|</p>|<ul>|</ul>|<li>|</li>|<br>|<b>|</b>|<span.*>|<font.*>|<strong>|</strong>',' ',regex=True,case=False)\n",
    "list(kuchen_gerate[kuchen_gerate['BESCHREIBUNG'].str.contains('<')]['BESCHREIBUNG'])"
   ]
  },
  {
   "cell_type": "markdown",
   "metadata": {},
   "source": [
    "### Cleaning unwanted characters and rows"
   ]
  },
  {
   "cell_type": "code",
   "execution_count": null,
   "metadata": {},
   "outputs": [],
   "source": [
    "kuchen_gerate['BESCHREIBUNG'] = kuchen_gerate['BESCHREIBUNG'].str.replace('&nbsp_',' ')\n",
    "kuchen_gerate['BESCHREIBUNG'] =kuchen_gerate['BESCHREIBUNG'].str.replace('&Oslash',' ')\n",
    "kuchen_gerate['BESCHREIBUNG'] =kuchen_gerate['BESCHREIBUNG'].str.replace('<br>',' ')\n",
    "\n",
    "# kuchen_gerate = kuchen_gerate[kuchen_gerate['WM'].isna() == True]\n",
    "kuchen_gerate = kuchen_gerate[kuchen_gerate['NUMMER'].str.match(r'^\\w+S$') == False]\n",
    "kuchen_gerate = kuchen_gerate[kuchen_gerate['NUMMER'].str.match(r'^\\w+P$') == False]\n"
   ]
  },
  {
   "cell_type": "code",
   "execution_count": null,
   "metadata": {},
   "outputs": [],
   "source": [
    "## creating a copy of the original text, to clean it up with the extracted patterns\n",
    "mined_text = kuchen_gerate[['NUMMER','BESCHREIBUNG']].copy()\n",
    "mined_text['REMAINED_TEXT'] = mined_text['BESCHREIBUNG'].copy()"
   ]
  },
  {
   "cell_type": "code",
   "execution_count": null,
   "metadata": {},
   "outputs": [],
   "source": [
    "## Extracting sizes from text\n",
    "mined_text.loc[mined_text['BESCHREIBUNG'].str.contains(r' klein *',case=False),'GROESSE'] = 'S'\n",
    "mined_text.loc[mined_text['BESCHREIBUNG'].str.contains(r' *groß *|großer* *',case=False),'GROESSE'] = 'L'\n",
    "mined_text.loc[mined_text['BESCHREIBUNG'].str.contains(r' mittel *',case=False),'GROESSE'] = 'M'\n",
    "mined_text['REMAINED_TEXT'] = mined_text['REMAINED_TEXT'].str.replace(r' *klein *| groß *| mittel *|großer* *','',regex=True,case=False)"
   ]
  },
  {
   "cell_type": "code",
   "execution_count": null,
   "metadata": {},
   "outputs": [],
   "source": [
    "## Extracting colors\n",
    "mined_text['FARBE'] = mined_text['BESCHREIBUNG'].str.extract(r'(kirschrot|ofenrot|rot|orange|gelb|blau|schwarz|weiß|weiss|grün|silber|creme|grau|blu |dijongelb| \\\n",
    "                                                         |Elfenbein|gold|aubergine|Dunkelgrün|dunkel- braun|braun)',flags=re.IGNORECASE)\n",
    "mined_text['FARBE'] = mined_text['FARBE'].str.capitalize()\n",
    "mined_text['REMAINED_TEXT'] = mined_text['REMAINED_TEXT'].str.replace(r'kirschrot|ofenrot|rot|orange|gelb|blau|schwarz|weiß|weiss|grün|silber|creme|grau|blu |dijongelb|Elfenbein|gold| \\\n",
    "                                                                |aubergine|aubergine|Dunkelgrün|dunkel- braun|braun','',regex=True, case=False)"
   ]
  },
  {
   "cell_type": "code",
   "execution_count": null,
   "metadata": {},
   "outputs": [],
   "source": [
    "## Extracting number of items\n",
    "mined_text['STUECK'] = mined_text['BESCHREIBUNG'].str.extract(r'( \\d+ Stück)',flags=re.IGNORECASE)\n",
    "mined_text['REMAINED_TEXT'] = mined_text['REMAINED_TEXT'].str.replace(r' \\d+ Stück','',regex=True, case=False)"
   ]
  },
  {
   "cell_type": "code",
   "execution_count": null,
   "metadata": {},
   "outputs": [],
   "source": [
    "## Extracting number of items in sets\n",
    "mined_text['TEILIG'] = mined_text['BESCHREIBUNG'].str.extract(r'( *\\d+-tlg.|\\d+-teilig|\\d+tlg.*|\\d+-*er set|\\d+ set|\\d+ ?ply)',flags=re.IGNORECASE)\n",
    "mined_text['REMAINED_TEXT'] = mined_text['REMAINED_TEXT'].str.replace(r' *\\d+-tlg.|\\d+-* *teilig[er]*|\\d+tlg.*|\\d+-*er set|\\d+ set|\\d+ ?ply','',regex=True, case=False)\n",
    "\n",
    "mined_text['TEILIG'] = mined_text['TEILIG'].str.replace(r'-tlg.|-tlg |tlg.|-teilig|tlg *',' tlg.',regex=True,case=False)\n",
    "mined_text['TEILIG'] = mined_text['TEILIG'].str.lstrip()"
   ]
  },
  {
   "cell_type": "code",
   "execution_count": null,
   "metadata": {},
   "outputs": [],
   "source": [
    "## Extracting weight patterns\n",
    "mined_text['GEWICHT'] = mined_text['BESCHREIBUNG'].str.extract(r'([\\d,]*\\d+ *kg|\\d+ *g |\\d+ *gram)',flags=re.IGNORECASE)\n",
    "mined_text['REMAINED_TEXT'] = mined_text['REMAINED_TEXT'].str.replace(r'[\\d,]*\\d+ *kg|\\d+ *g |\\d+ *gram','',regex=True,case=False)"
   ]
  },
  {
   "cell_type": "code",
   "execution_count": null,
   "metadata": {},
   "outputs": [],
   "source": [
    "## Extracting height patterns\n",
    "mined_text['HOHE'] = mined_text['BESCHREIBUNG'].str.extract(r'(\\d+ *cm hoch|Pfanne hoch \\(\\d+ cm\\)|\\d+,\\d+ *cm hoch|hoch \\d+ *cm|\\d+,*\\d* cm hoch|hoch [Ø|ø] \\d+ *cm)',flags=re.IGNORECASE)\n",
    "mined_text['REMAINED_TEXT'] = mined_text['REMAINED_TEXT'].str.replace(r'\\d+ *cm hoch|Pfanne hoch \\(\\d+ cm\\)|\\d+,\\d+ *cm hoch|hoch \\d+ *cm|\\d+,*\\d* cm hoch|hoch [Ø|ø] \\d+ *cm','',regex=True, case=False)\n",
    "\n",
    "## cleaning up the height formats\n",
    "mined_text['HOHE'] = mined_text['HOHE'].str.replace('cm',' cm')\n",
    "mined_text['HOHE'] = mined_text['HOHE'].str.replace('  cm',' cm')"
   ]
  },
  {
   "cell_type": "code",
   "execution_count": null,
   "metadata": {},
   "outputs": [],
   "source": [
    "### Extracting floor sizes\n",
    "mined_text['BODEN'] = mined_text['BESCHREIBUNG'].str.extract(r'(Boden [Ø |_]*\\d+[,\\d]* cm|Boden [Ø |_]*\\d+[,\\d]* mm| \\\n",
    "                                                         Bodendurchmesser [Ø |_]*\\d+[,\\d]* cm|Boden-Kontaktfläche [Ø |_]*\\d+[,\\d]* cm)',flags=re.IGNORECASE)\n",
    "mined_text['REMAINED_TEXT'] = mined_text['REMAINED_TEXT'].str.replace(r'Boden [Ø |_]*\\d+[,\\d]* cm|Boden [Ø |_]*\\d+[,\\d]* mm|Bodendurchmesser [Ø |_]*\\d+[,\\d]* cm| \\\n",
    "                                                                  Boden-Kontaktfläche [Ø |_]*\\d+[,\\d]* cm','',regex=True, case=False)\n",
    "\n",
    "## Cleaning up the boden formats\n",
    "mined_text['BODEN'] = mined_text['BODEN'].str.replace(' Ø','')\n",
    "mined_text['BODEN'] = mined_text['BODEN'].str.replace(' ø','')"
   ]
  },
  {
   "cell_type": "code",
   "execution_count": null,
   "metadata": {},
   "outputs": [],
   "source": [
    "## Extracting info about the Deckel\n",
    "mined_text['DECKEL'] = mined_text['BESCHREIBUNG'].str.extract(r'(mit deckel|ohne deckel|mit glasdeckel|m.Deckel|\\+Deckel|\\+ Deckel|\\(Inkl. Deckel\\))',flags=re.IGNORECASE)\n",
    "mined_text['REMAINED_TEXT'] = mined_text['REMAINED_TEXT'].str.replace(r'mit deckel|ohne deckel|mit glasdeckel|m.Deckel|\\+Deckel|\\+ Deckel|\\(Inkl. Deckel\\)','',regex=True, case=False)"
   ]
  },
  {
   "cell_type": "code",
   "execution_count": null,
   "metadata": {},
   "outputs": [],
   "source": [
    "## Extracting shape info\n",
    "mined_text['FORM'] = mined_text['BESCHREIBUNG'].str.extract(r'(rund|oval[er]*|rechteckige|eckige|rechteckig|eckig|quadratisch)',flags=re.IGNORECASE)\n",
    "mined_text['FORM'] = mined_text['FORM'].str.capitalize()\n",
    "mined_text['REMAINED_TEXT'] = mined_text['REMAINED_TEXT'].str.replace(r'rund|oval[er]*|rechteckige|eckige|rechteckig|eckig|quadratisch','',regex=True, case=False)"
   ]
  },
  {
   "cell_type": "code",
   "execution_count": null,
   "metadata": {},
   "outputs": [],
   "source": [
    "## Extracting info about the griff\n",
    "mined_text['GRIFF'] = mined_text['BESCHREIBUNG'].str.extract(r'(Gußeisen-* *griffe*n*|Edelstahl-* *griffe|Edelst.-Griffe*n*|Edelstahlgriffe*n*|Gusseisen-* *griffe*n*|EDEL- STAHLgriffe| \\\n",
    "                                                         |Bronze-? ?griffe?n?|Bronzegriffe*n*|Bronze Griffe*n*|mit griffe*n*|griffe*n*|mit \\w+ *griffe*)',flags=re.IGNORECASE)\n",
    "mined_text['REMAINED_TEXT'] = mined_text['REMAINED_TEXT'].str.replace(r'Gußeisen-* *griffe*n*|Edelstahl-* *griffe*n*|Edelst.-Griffe*n*|Edelstahlgriffe*n*|Gusseisen-* *griffe*n*|EDEL- STAHLgriffe| \\\n",
    "                                                         |Bronze-? ?griffe?n?|Bronzegriffe*n*|Bronze Griffe*n*|mit griffe*n*|griffe*n*|mit \\w+ *griffe*n*','',regex=True, case=False)\n"
   ]
  },
  {
   "cell_type": "markdown",
   "metadata": {},
   "source": [
    "### Separating dimensions into separate columns"
   ]
  },
  {
   "cell_type": "code",
   "execution_count": null,
   "metadata": {},
   "outputs": [],
   "source": [
    "## Extracting the patterns related to size and size units and uniforming the formatting\n",
    "mined_text['MASSEN'] = mined_text['BESCHREIBUNG'].str.extract(r'([\\d,*\\d* x]*[ *\\d,*\\d* x]*[ *\\d,*\\d*] *cm| \\d+mm| \\d+ mm| \\d+cm| \\d+mm|\\d+ cm)',flags=re.IGNORECASE)\n",
    "mined_text['REMAINED_TEXT'] = mined_text['REMAINED_TEXT'].str.replace(r'([\\d+,*\\d* x]*[ *\\d+,*\\d* x]*[ *\\d+,*\\d*] *cm| \\d+mm| \\d+ mm| \\d+cm| \\d+mm|\\d+ cm)','',regex=True,case=False)\n",
    "mined_text['MASSEN'] = mined_text['MASSEN'].str.replace(r'^, ','',regex=True)\n",
    "mined_text['MASSEN'] = mined_text['MASSEN'].str.replace(r'^ *','',regex=True)\n",
    "mined_text['MASSEN'] = mined_text['MASSEN'].str.replace('X','x',regex=True)\n",
    "mined_text['MASSEN'] = mined_text['MASSEN'].str.replace('x',' x ',regex=True)\n",
    "mined_text['MASSEN'] = mined_text['MASSEN'].str.replace('  x  ',' x ',regex=True)\n",
    "mined_text['MASSEN'] = mined_text['MASSEN'].str.replace('cm',' cm',regex=True)\n",
    "mined_text['MASSEN'] = mined_text['MASSEN'].str.replace('  cm',' cm',regex=True)\n",
    "mined_text['MASSEN'] = mined_text['MASSEN'].str.replace('mm',' mm',regex=True)\n",
    "\n",
    "## Separating the measurement unit from the values\n",
    "mined_text['MASSEN_EINHEIT'] = mined_text['MASSEN'].str.extract(r'(cm|mm)')\n",
    "mined_text['MASSEN'] = mined_text['MASSEN'].str.replace(r'[cm|mm]','',regex=True,case=False)"
   ]
  },
  {
   "cell_type": "code",
   "execution_count": null,
   "metadata": {},
   "outputs": [],
   "source": [
    "## Separating dimensions from one another when there are more than 1\n",
    "text = mined_text['MASSEN'].str.split(r'x|, ')\n",
    "\n",
    "df = pd.DataFrame(text)\n",
    "\n",
    "df['MASSEN_1'] = ''\n",
    "df['MASSEN_2'] = ''\n",
    "df['MASSEN_3'] = ''\n",
    "\n",
    "for index, row in df.iterrows():\n",
    "    numbers = row['MASSEN']\n",
    "    if isinstance(numbers, list):\n",
    "        if len(numbers) == 1:\n",
    "            df.at[index, 'MASSEN_1'] = numbers[0]\n",
    "        elif len(numbers) == 2:\n",
    "            df.at[index, 'MASSEN_1'] = numbers[0]\n",
    "            df.at[index, 'MASSEN_2'] = numbers[1]\n",
    "        elif len(numbers) == 3:\n",
    "            df.at[index, 'MASSEN_1'] = numbers[0]\n",
    "            df.at[index, 'MASSEN_2'] = numbers[1]\n",
    "            df.at[index, 'MASSEN_3'] = numbers[2]\n",
    "\n",
    "df.drop(columns=['MASSEN'], inplace=True)\n",
    "\n",
    "mined_text['MASSEN_1'] = df['MASSEN_1']\n",
    "mined_text['MASSEN_2'] = df['MASSEN_2']\n",
    "mined_text['MASSEN_3'] = df['MASSEN_3']"
   ]
  },
  {
   "cell_type": "markdown",
   "metadata": {},
   "source": [
    "### Cleaning up the values in columns (making them uniform)"
   ]
  },
  {
   "cell_type": "code",
   "execution_count": null,
   "metadata": {},
   "outputs": [],
   "source": [
    "## Extracting volume and size information and uniforming the formatting\n",
    "mined_text['VOLUME'] = mined_text['BESCHREIBUNG'].str.extract(r'( *\\d+ ml| *\\d+l| *\\d*,*\\d+ *l+[iter]*| *\\d+ l)',flags=re.IGNORECASE)\n",
    "mined_text['REMAINED_TEXT'] = mined_text['REMAINED_TEXT'].str.replace(r' *\\d+ ml| *\\d+l| *\\d*,*\\d+ *l+[iter]*| *\\d+ l','',regex=True,case=False)\n",
    "\n",
    "mined_text['VOLUME'] = mined_text['VOLUME'].str.replace(r'L',' L',regex=True)\n",
    "mined_text['VOLUME'] = mined_text['VOLUME'].str.replace(r'Liter',' L',regex=True,case=False)\n",
    "mined_text['VOLUME'] = mined_text['VOLUME'].str.replace(r'l',' L',regex=True)\n",
    "\n",
    "mined_text['VOLUME'] = mined_text['VOLUME'].str.replace(r'  L',' L',regex=True)\n",
    "mined_text['VOLUME'] = mined_text['VOLUME'].str.replace(r'm L','mL',regex=True)\n",
    "\n",
    "## Separating the measuring unit from the values\n",
    "mined_text['VOLUME_EINHEIT'] = mined_text['VOLUME'].str.extract(r'(L|mL)')\n",
    "mined_text['VOLUME'] = mined_text['VOLUME'].str.replace(r'[L|mL]','',regex=True)\n"
   ]
  },
  {
   "cell_type": "code",
   "execution_count": null,
   "metadata": {},
   "outputs": [],
   "source": [
    "## Extracting materials (so many variations that can be for different parts of the item)\n",
    "new_data = mined_text['BESCHREIBUNG'].str.extractall(r'(steinzeug|granit|edelstahl|ohne keramik|Guss-Aluminium|Gussaluminium|Guß-* *eisen|Anti-* *haftbeschichtung|titan|kupfer| \\\n",
    "                                                 edelst.|keramik|Gußeisen|Gusseisen|Guss|eisen|holz|porzellan|m. Antihaftversiegelung|Guß- alu|Edelst.)',flags=re.IGNORECASE).groupby(level=0).agg(','.join)\n",
    "mined_text['REMAINED_TEXT'] = mined_text['REMAINED_TEXT'].str.replace(r'(steinzeug|granit|edelstahl|ohne keramik|Guss-Aluminium|Gussaluminium|Guß-* *eisen|Anti- haftbeschichtung|titan|kupfer| \\\n",
    "                                                                  edelst.|keramik|Gußeisen|Gusseisen|Guss|eisen|holz|porzellan|m. Antihaftversiegelung|Guß- alu|Edelst.)','',regex=True,case=False)\n",
    "\n",
    "df_l = pd.DataFrame(new_data)\n",
    "new_df = df_l[0].str.split(',')\n"
   ]
  },
  {
   "cell_type": "code",
   "execution_count": null,
   "metadata": {},
   "outputs": [],
   "source": [
    "## Transferring material data into separate columns (the data model needs rethinking)\n",
    "df = pd.DataFrame(new_df)\n",
    "\n",
    "df['MATERIAL_1'] = ''\n",
    "df['MATERIAL_2'] = ''\n",
    "df['MATERIAL_3'] = ''\n",
    "\n",
    "\n",
    "for index, row in df.iterrows():\n",
    "    numbers = row[0]\n",
    "    if isinstance(numbers, list):\n",
    "        if len(numbers) == 1:\n",
    "            df.at[index, 'MATERIAL_1'] = numbers[0]\n",
    "        elif len(numbers) == 2:\n",
    "            df.at[index, 'MATERIAL_1'] = numbers[0]\n",
    "            df.at[index, 'MATERIAL_2'] = numbers[1]\n",
    "        elif len(numbers) == 3:\n",
    "            df.at[index, 'MATERIAL_1'] = numbers[0]\n",
    "            df.at[index, 'MATERIAL_2'] = numbers[1]\n",
    "            df.at[index, 'MATERIAL_3'] = numbers[2]\n",
    "\n",
    "## Transferring the cleaned data to the original dataframe\n",
    "\n",
    "mined_text['MATERIAL_1'] = df['MATERIAL_1']\n",
    "mined_text['MATERIAL_2'] = df['MATERIAL_2']\n",
    "mined_text['MATERIAL_3'] = df['MATERIAL_3']\n",
    "\n",
    "## Formatting (Capitalizing) the material items\n",
    "\n",
    "mined_text['MATERIAL_1'] = mined_text['MATERIAL_1'].str.capitalize()\n",
    "mined_text['MATERIAL_2'] = mined_text['MATERIAL_2'].str.capitalize()\n",
    "mined_text['MATERIAL_3'] = mined_text['MATERIAL_3'].str.capitalize()\n",
    "\n"
   ]
  },
  {
   "cell_type": "code",
   "execution_count": null,
   "metadata": {},
   "outputs": [],
   "source": [
    "## Reordering the columns\n",
    "mined_text = mined_text[['NUMMER', 'BESCHREIBUNG', 'REMAINED_TEXT','GROESSE', 'FARBE', 'VOLUME','VOLUME_EINHEIT', 'MASSEN_1','MASSEN_2','MASSEN_3', 'MASSEN_EINHEIT', 'STUECK', 'TEILIG', \n",
    "      'GRIFF','GEWICHT', 'HOHE', 'BODEN', 'DECKEL', 'FORM','MATERIAL_1','MATERIAL_2','MATERIAL_3']]"
   ]
  },
  {
   "cell_type": "code",
   "execution_count": null,
   "metadata": {},
   "outputs": [],
   "source": [
    "## Cleaning up the Remaining text (The original product name) from irrelevant characters\n",
    "mined_text['REMAINED_TEXT'] = mined_text['REMAINED_TEXT'].str.replace(r'Ø|ø|\\(\\)|\\d+|inhalt|wiegt ?[ca.]*|\\.|\\+|\\/|farbe','',regex=True,case=False)\n",
    "mined_text['REMAINED_TEXT'] = mined_text['REMAINED_TEXT'].str.replace(r',|-|:',' ',regex=True,case=False)\n",
    "## Removing some problematic cases that couldn't be included in the patterns\n",
    "mined_text['REMAINED_TEXT'] = mined_text['REMAINED_TEXT'].str.replace(r'X X','',regex=True,case=False)\n",
    "mined_text['REMAINED_TEXT'] = mined_text['REMAINED_TEXT'].str.replace(r'\\(\\)','',regex=True,case=False)\n",
    "mined_text['REMAINED_TEXT'] = mined_text['REMAINED_TEXT'].str.replace(r'einzeln?|gesamt| personen| xx | z ','',regex=True,case=False)\n",
    "\n",
    "mined_text['REMAINED_TEXT'] = mined_text['REMAINED_TEXT'].str.replace(r'mit .*','',regex=True,case=False)\n",
    "\n",
    "mined_text['REMAINED_TEXT'] = mined_text['REMAINED_TEXT'].str.replace(r'  ',' ',regex=True,case=False)\n",
    "mined_text['REMAINED_TEXT'] = mined_text['REMAINED_TEXT'].str.replace(r'  ',' ',regex=True,case=False)\n",
    "mined_text['REMAINED_TEXT'] = mined_text['REMAINED_TEXT'].str.lstrip()\n",
    "mined_text['REMAINED_TEXT'] = mined_text['REMAINED_TEXT'].str.rstrip()\n",
    "mined_text['REMAINED_TEXT'] = mined_text['REMAINED_TEXT'].str.replace(r' in$| je lang$','',regex=True,case=False)\n",
    "mined_text['REMAINED_TEXT'] = mined_text['REMAINED_TEXT'].str.title()\n"
   ]
  },
  {
   "cell_type": "code",
   "execution_count": null,
   "metadata": {},
   "outputs": [],
   "source": [
    "mined_text[mined_text['REMAINED_TEXT'].str.contains(r' je lang$',case=False)]"
   ]
  },
  {
   "cell_type": "code",
   "execution_count": null,
   "metadata": {},
   "outputs": [],
   "source": [
    "mined_text[mined_text['REMAINED_TEXT'].str.contains('X X')]"
   ]
  },
  {
   "cell_type": "code",
   "execution_count": null,
   "metadata": {},
   "outputs": [],
   "source": [
    "## Exporting data into Excel\n",
    "mined_text.to_excel('Exports/kuchen_gerate_mined_sample_1.xlsx')"
   ]
  },
  {
   "cell_type": "code",
   "execution_count": null,
   "metadata": {},
   "outputs": [],
   "source": []
  },
  {
   "cell_type": "code",
   "execution_count": null,
   "metadata": {},
   "outputs": [],
   "source": []
  },
  {
   "cell_type": "code",
   "execution_count": null,
   "metadata": {},
   "outputs": [],
   "source": []
  }
 ],
 "metadata": {
  "kernelspec": {
   "display_name": "Python 3",
   "language": "python",
   "name": "python3"
  },
  "language_info": {
   "codemirror_mode": {
    "name": "ipython",
    "version": 3
   },
   "file_extension": ".py",
   "mimetype": "text/x-python",
   "name": "python",
   "nbconvert_exporter": "python",
   "pygments_lexer": "ipython3",
   "version": "3.12.3"
  }
 },
 "nbformat": 4,
 "nbformat_minor": 2
}
