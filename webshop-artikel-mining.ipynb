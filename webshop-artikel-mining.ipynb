{
 "cells": [
  {
   "cell_type": "code",
   "execution_count": null,
   "metadata": {},
   "outputs": [],
   "source": [
    "import pandas as pd\n",
    "import matplotlib.pyplot as plt\n",
    "import seaborn as sns\n",
    "import math\n",
    "import regex as re\n",
    "from values import *\n",
    "\n",
    "import warnings\n",
    "warnings.filterwarnings('ignore')\n"
   ]
  },
  {
   "cell_type": "code",
   "execution_count": null,
   "metadata": {},
   "outputs": [],
   "source": [
    "val = Values()"
   ]
  },
  {
   "cell_type": "code",
   "execution_count": null,
   "metadata": {},
   "outputs": [],
   "source": [
    "artikel_df = pd.read_excel(val.shop_file_path)\n",
    "marketing_artikel = pd.read_csv(val.marketing_artikel,encoding='latin-1', delimiter=';', on_bad_lines='skip',parse_dates=val.dates,dayfirst=True)"
   ]
  },
  {
   "cell_type": "code",
   "execution_count": null,
   "metadata": {},
   "outputs": [],
   "source": [
    "### Cleaning and preparing Warengroup data\n",
    "warengrps = marketing_artikel[['NUMMER','WARENGR']]\n",
    "warengrps['WARENGR'] = pd.to_numeric(warengrps['WARENGR'],errors='coerce')\n",
    "warengrps.dropna(subset='WARENGR',inplace=True)\n",
    "warengrps['WARENGR'] = warengrps['WARENGR'].astype(int)\n",
    "warengrps.drop_duplicates(subset='NUMMER',inplace=True)"
   ]
  },
  {
   "cell_type": "code",
   "execution_count": null,
   "metadata": {},
   "outputs": [],
   "source": [
    "### Selecting a list of columns from our artikels that we need\n",
    "artikels = artikel_df[['StoreId','Name','Beschreibung']]\n",
    "\n",
    "### Cleaning up the Artikelnumbers, renaming their column and removing unwanted information to connect this dataset with Warengroups data\n",
    "artikels['Number'] = artikels['StoreId'].str.split().str[0]"
   ]
  },
  {
   "cell_type": "code",
   "execution_count": null,
   "metadata": {},
   "outputs": [],
   "source": [
    "### Connecting two datasets to find the warengroups of each artikel and select some of them for further analysis\n",
    "artikels_mit_wrgp = pd.merge(artikels,warengrps,how='left',left_on='Number',right_on='NUMMER')"
   ]
  },
  {
   "cell_type": "code",
   "execution_count": null,
   "metadata": {},
   "outputs": [],
   "source": [
    "### Checking the items from right dataset and see if the left-join left some rows null and removing them\n",
    "artikels_mit_wrgp = artikels_mit_wrgp[artikels_mit_wrgp['NUMMER'].isna()==False]\n",
    "### Converting WARENGR column values from float to int\n",
    "artikels_mit_wrgp['WARENGR'] = artikels_mit_wrgp['WARENGR'].astype(int)"
   ]
  },
  {
   "cell_type": "code",
   "execution_count": null,
   "metadata": {},
   "outputs": [],
   "source": [
    "### Selecting certain Warengroups and columns for further analysis\n",
    "kuchen_gerate = artikels_mit_wrgp[artikels_mit_wrgp['WARENGR'].isin(val.kuchengerate_wr_list)]\n",
    "\n",
    "### Selecting the needed columns and uniforming the column names\n",
    "kuchen_gerate = kuchen_gerate[['WARENGR','NUMMER','Name','Beschreibung']]\n",
    "kuchen_gerate = kuchen_gerate.rename(columns={'Name':'NAME','Beschreibung':'BESCHREIBUNG'})"
   ]
  },
  {
   "cell_type": "code",
   "execution_count": null,
   "metadata": {},
   "outputs": [],
   "source": [
    "### Removing rows without description\n",
    "for id,item in enumerate(kuchen_gerate['BESCHREIBUNG']):\n",
    "    kuchen_gerate = kuchen_gerate.dropna(subset='BESCHREIBUNG')\n",
    "\n",
    "kuchen_gerate['ORIGINAL_BESCHREIBUNG'] = kuchen_gerate['BESCHREIBUNG'].copy()"
   ]
  },
  {
   "cell_type": "markdown",
   "metadata": {},
   "source": [
    "### Cleaning unwanted characters and rows"
   ]
  },
  {
   "cell_type": "code",
   "execution_count": null,
   "metadata": {},
   "outputs": [],
   "source": [
    "def replace_dot_with_comma(match):\n",
    "    # Replace the dot with a comma\n",
    "    return match.group(0).replace('.', ',')\n",
    "\n",
    "def replace_dot_between_numbers(input_string):\n",
    "    # Define the regular expression pattern\n",
    "    pattern = r'(?<=\\d)\\.(?=\\d)'  # Matches a dot between two digits\n",
    "\n",
    "    # Perform the replacement\n",
    "    result = re.sub(pattern, replace_dot_with_comma, input_string)\n",
    "\n",
    "    return result"
   ]
  },
  {
   "cell_type": "code",
   "execution_count": null,
   "metadata": {},
   "outputs": [],
   "source": [
    "### Removing unwanted characters\n",
    "kuchen_gerate['BESCHREIBUNG'] = kuchen_gerate['BESCHREIBUNG'].str.replace(' ',' ',regex=True)\n",
    "kuchen_gerate['BESCHREIBUNG'] = kuchen_gerate['BESCHREIBUNG'].str.replace(r'<p>|</p>|<ul>|</ul>|<li>|</li>|<br>|<b>|</b>|<span.*>|<font.*>|<strong>|</strong>',' ',regex=True,case=False)\n",
    "kuchen_gerate['BESCHREIBUNG'] = kuchen_gerate['BESCHREIBUNG'].str.replace(r'&nbsp_|&nbsp;',' ',regex=True)\n",
    "kuchen_gerate['BESCHREIBUNG'] =kuchen_gerate['BESCHREIBUNG'].str.replace('&Oslash',' ')\n",
    "kuchen_gerate['BESCHREIBUNG'] =kuchen_gerate['BESCHREIBUNG'].map(replace_dot_between_numbers)\n",
    "# kuchen_gerate['BESCHREIBUNG'] =kuchen_gerate['BESCHREIBUNG'].str.replace('<br>',' ')\n",
    "\n",
    "### With another dataset that hat Werbemittel\n",
    "# kuchen_gerate = kuchen_gerate[kuchen_gerate['WM'].isna() == True]\n",
    "\n",
    "### To remove the Artikels for Swiss or P artikels\n",
    "# kuchen_gerate = kuchen_gerate[kuchen_gerate['NUMMER'].str.match(r'^\\w+S$') == False]\n",
    "# kuchen_gerate = kuchen_gerate[kuchen_gerate['NUMMER'].str.match(r'^\\w+P$') == False]\n",
    "kuchen_gerate = kuchen_gerate.drop_duplicates()\n",
    "kuchen_gerate.info()"
   ]
  },
  {
   "cell_type": "markdown",
   "metadata": {},
   "source": [
    "# Run from Here"
   ]
  },
  {
   "cell_type": "code",
   "execution_count": null,
   "metadata": {},
   "outputs": [],
   "source": [
    "## creating a copy of the original text, to clean it up with the extracted patterns\n",
    "mined_text = kuchen_gerate[['NUMMER','NAME','BESCHREIBUNG','ORIGINAL_BESCHREIBUNG']].copy()\n",
    "# mined_text['ORIGINAL_BESCHREIBUNG'] = mined_text['BESCHREIBUNG'].copy()\n",
    "mined_text['BESCHREIBUNG'] = mined_text['NAME'] + '\\n' +mined_text['BESCHREIBUNG']\n",
    "mined_text['REMAINED_TEXT'] = mined_text['BESCHREIBUNG'].copy()\n",
    "mined_text['BESCHREIBUNG'] = mined_text['BESCHREIBUNG'].str.lstrip()\n",
    "mined_text['BESCHREIBUNG'] = mined_text['BESCHREIBUNG'].str.rstrip()"
   ]
  },
  {
   "cell_type": "code",
   "execution_count": null,
   "metadata": {},
   "outputs": [],
   "source": [
    "# ## Extracting sizes from text\n",
    "# mined_text.loc[mined_text['BESCHREIBUNG'].str.contains(r' klein *',case=False),'GROESSE'] = 'S'\n",
    "# mined_text.loc[mined_text['BESCHREIBUNG'].str.contains(r' *groß *|großer* *',case=False),'GROESSE'] = 'L'\n",
    "# mined_text.loc[mined_text['BESCHREIBUNG'].str.contains(r' mittel *',case=False),'GROESSE'] = 'M'\n",
    "# mined_text['REMAINED_TEXT'] = mined_text['REMAINED_TEXT'].str.replace(r' *klein *| groß *| mittel *|großer* *','',regex=True,case=False)"
   ]
  },
  {
   "cell_type": "code",
   "execution_count": null,
   "metadata": {},
   "outputs": [],
   "source": [
    "# ## Extracting colors\n",
    "# mined_text['FARBE'] = mined_text['BESCHREIBUNG'].str.extract(r'(kirschrot|ofenrot|rot|orange|gelb| blau|schwarz|weiß|weiss|grün|silber|creme|grau|blu |dijongelb| \\\n",
    "#                                                          |Elfenbein|gold|aubergine|Dunkelgrün|dunkel-* *braun|braun)(?!tiefschwarz)',flags=re.IGNORECASE)\n",
    "# mined_text['FARBE'] = mined_text['FARBE'].str.capitalize()\n",
    "# mined_text['REMAINED_TEXT'] = mined_text['REMAINED_TEXT'].str.replace(r'kirschrot|ofenrot|rot|orange|gelb| blau|schwarz|weiß|weiss|grün|silber|creme|grau|blu |dijongelb|Elfenbein|gold| \\\n",
    "#                                                                 |aubergine|aubergine|Dunkelgrün|dunkel- braun|braun|(?!tiefschwarz)','',regex=True, case=False)"
   ]
  },
  {
   "cell_type": "code",
   "execution_count": null,
   "metadata": {},
   "outputs": [],
   "source": [
    "# ## Extracting number of items\n",
    "# mined_text['STUECK'] = mined_text['BESCHREIBUNG'].str.extract(r'( \\d+ Stück)',flags=re.IGNORECASE)\n",
    "# # mined_text['STUECK'] = mined_text['STUECK'].str.extract(r'( \\d+)',flags=re.IGNORECASE)\n",
    "# # mined_text['REMAINED_TEXT'] = mined_text['REMAINED_TEXT'].str.replace(r' \\d+ Stück','',regex=True, case=False)"
   ]
  },
  {
   "cell_type": "code",
   "execution_count": null,
   "metadata": {},
   "outputs": [],
   "source": [
    "## Extracting number of items in sets and uniforming the values\n",
    "mined_text['TEILIG'] = mined_text['BESCHREIBUNG'].str.extract(r'( *\\d+-tlg.|\\d+-teilig|\\d+tlg.*|\\d+-*er set|\\d+ set|\\d+ ?ply|\\d+er-Set)',flags=re.IGNORECASE)\n",
    "# mined_text['REMAINED_TEXT'] = mined_text['REMAINED_TEXT'].str.replace(r' *\\d+-tlg.|\\d+-* *teilig[er]*|\\d+tlg.*|\\d+-*er set|\\d+ set|\\d+ ?ply','',regex=True, case=False)\n",
    "\n",
    "mined_text['TEILIG'] = mined_text['TEILIG'].str.replace(r'-tlg.|-tlg |tlg.|-teilig|tlg *',' tlg.',regex=True,case=False)\n",
    "mined_text['TEILIG'] = mined_text['TEILIG'].str.lstrip()"
   ]
  },
  {
   "cell_type": "code",
   "execution_count": null,
   "metadata": {},
   "outputs": [],
   "source": [
    "mined_text[mined_text['BESCHREIBUNG'].str.contains(r'deckel \\d',regex=True,case=False)]\n",
    "mined_text[mined_text['NUMMER'] == '035B06']"
   ]
  },
  {
   "cell_type": "code",
   "execution_count": null,
   "metadata": {},
   "outputs": [],
   "source": [
    "## Extracting weight patterns\n",
    "mined_text['GEWICHT'] = mined_text['BESCHREIBUNG'].str.findall(r'([\\d,]*\\d+ *kg|\\d+ *g |\\d+ *gram|\\d+-\\d+ kg|\\d+ *g\\.)',flags=re.IGNORECASE)\n",
    "# mined_text['REMAINED_TEXT'] = mined_text['REMAINED_TEXT'].str.replace(r'[\\d,]*\\d+ *kg|\\d+ *g |\\d+ *gram|\\d+-\\d+ kg|\\d+ *g\\.','',regex=True,case=False)"
   ]
  },
  {
   "cell_type": "code",
   "execution_count": null,
   "metadata": {},
   "outputs": [],
   "source": [
    "## Extracting height patterns and cleaning up inconsistencies\n",
    "mined_text['HOHE'] = mined_text['BESCHREIBUNG'].str.findall(r'(\\d+,*\\d* *cm hoch|hoch \\(\\d+ cm\\)|\\d+,\\d+ *cm hoch|hoch \\d+ *cm|hoch [Ø|ø] \\d+,*\\d* *cm)',flags=re.IGNORECASE)\n",
    "mined_text['REMAINED_TEXT'] = mined_text['REMAINED_TEXT'].str.replace(r'\\d+,*\\d* *cm hoch|hoch \\(\\d+ cm\\)|\\d+,\\d+ *cm hoch|hoch \\d+ *cm|hoch [Ø|ø] \\d+,*\\d* *cm','',regex=True, case=False)\n",
    "\n",
    "# ## cleaning up the height formats\n",
    "# mined_text['HOHE'] = mined_text['HOHE'].str.replace('cm',' cm')\n",
    "# mined_text['HOHE'] = mined_text['HOHE'].str.replace('  cm',' cm')\n",
    "# mined_text['HOHE'] = mined_text['HOHE'].str.replace('hoch','',case=False)\n"
   ]
  },
  {
   "cell_type": "code",
   "execution_count": null,
   "metadata": {},
   "outputs": [],
   "source": [
    "### Extracting floor sizes and cleaning up the formatting\n",
    "mined_text['BODEN'] = mined_text['BESCHREIBUNG'].str.findall(r'(Boden [Ø |_]*\\d+[,\\d]* cm|Boden [Ø |_]*\\d+[,\\d]* mm|Boden [bis Ø]* \\d+ cm| \\\n",
    "                                                         Bodendurchmesser [Ø |_]*\\d+[,\\d]* cm|Boden-Kontaktfläche [Ø |_]*\\d+[,\\d]* cm)',flags=re.IGNORECASE)\n",
    "mined_text['REMAINED_TEXT'] = mined_text['REMAINED_TEXT'].str.replace(r'Boden [Ø |_]*\\d+[,\\d]* cm|Boden [Ø |_]*\\d+[,\\d]* mm|Boden [bis Ø]* \\d+ cm| \\\n",
    "                                                         Bodendurchmesser [Ø |_]*\\d+[,\\d]* cm|Boden-Kontaktfläche [Ø |_]*\\d+[,\\d]* cm','',regex=True, case=False)\n",
    "\n",
    "## Cleaning up the boden formats\n",
    "# mined_text['BODEN'] = mined_text['BODEN'].str.replace(' Ø','')\n",
    "# mined_text['BODEN'] = mined_text['BODEN'].str.replace(' ø','')\n",
    "# mined_text['BODEN'] = mined_text['BODEN'].str.replace('Boden','',regex=True,case=False)\n",
    "# mined_text['BODEN'] = mined_text['BODEN'].str.replace('Kontaktfläche','',regex=True,case=False)\n",
    "# mined_text['BODEN'] = mined_text['BODEN'].str.replace('durchmesser','',regex=True,case=False)\n",
    "# mined_text['BODEN'] = mined_text['BODEN'].str.lstrip()\n",
    "# mined_text['BODEN'] = mined_text['BODEN'].str.rstrip()\n",
    "\n"
   ]
  },
  {
   "cell_type": "code",
   "execution_count": null,
   "metadata": {},
   "outputs": [],
   "source": [
    "### STARKE\n",
    "mined_text['STARKE'] = mined_text['BESCHREIBUNG'].str.extract(r'(\\d+,*\\d*-*\\d* mm starke|stärke von \\d+,*\\d* mm)',flags=re.IGNORECASE)\n",
    "mined_text['REMAINED_TEXT'] = mined_text['REMAINED_TEXT'].str.replace(r'\\d+,*\\d*-*\\d* mm starke','',case=False,regex=True)\n",
    "mined_text['STARKE'] = mined_text['STARKE'].str.rstrip(' starke')\n",
    "mined_text['STARKE'].unique()"
   ]
  },
  {
   "cell_type": "code",
   "execution_count": null,
   "metadata": {},
   "outputs": [],
   "source": [
    "## Extracting the patterns related to size and size units and uniforming the formatting\n",
    "mined_text['MASSEN'] = mined_text['REMAINED_TEXT'].str.findall(r'[Ø|ø]* \\d+-\\d+ cm|[Ø|ø]* \\d+,*\\d* cm|\\d+,*\\d* x \\d+,*\\d* x \\d+,*\\d* cm \\(B\\/T\\/H\\)| \\\n",
    "                                                                 Ø* *\\d+,*\\d*\\/\\d+,*\\d*\\/\\d+,*\\d* cm|\\(Ø \\d+,*\\d*, \\d+,*\\d*, \\d+,*\\d* cm\\)|\\d+,*\\d* x \\d+,*\\d* cm|\\d+,*\\d* *x *\\d+,*\\d* *x *\\d+,*\\d* *cm *\\(B\\/T\\/H\\)|\\d+,*\\d* cm x \\d+,*\\d* cm x \\d+,*\\d* cm \\(B\\/T\\/H\\)| \\\n",
    "                                                               \\d+,*\\d* *x* *\\d+,*\\d* *x* *\\d*,*\\d* *cm|\\(B\\/T\\/H\\): *\\d+,*\\d* *x *\\d+,*\\d* *x *\\d+,*\\d* *cm|[Ø|ø]* \\d+,*\\d* *cm',flags=re.IGNORECASE)\n",
    "mined_text['REMAINED_TEXT'] = mined_text['REMAINED_TEXT'].str.replace(r'\\d+,*\\d* *x *\\d+,*\\d* *x *\\d+,*\\d* *cm *\\(B\\/T\\/H\\)|\\d+,*\\d* cm x \\d+,*\\d* cm x \\d+,*\\d* cm \\(B\\/T\\/H\\)| \\\n",
    "                                                               \\d+,*\\d* *x* *\\d+,*\\d* *x* *\\d*,*\\d* *cm|\\(B\\/T\\/H\\): *\\d+,*\\d* *x *\\d+,*\\d* *x *\\d+,*\\d* *cm|\\d+,*\\d* *cm','',regex=True,case=False)\n",
    "# mined_text['MASSEN'] = mined_text['MASSEN'].str.replace(r'^, ','',regex=True)\n",
    "# mined_text['MASSEN'] = mined_text['MASSEN'].str.replace(r'^ *','',regex=True)\n",
    "# mined_text['MASSEN'] = mined_text['MASSEN'].str.replace('X','x',regex=True)\n",
    "# mined_text['MASSEN'] = mined_text['MASSEN'].str.replace('x',' x ',regex=True)\n",
    "# mined_text['MASSEN'] = mined_text['MASSEN'].str.replace('  x  ',' x ',regex=True)\n",
    "# mined_text['MASSEN'] = mined_text['MASSEN'].str.replace('cm',' cm',regex=True)\n",
    "# mined_text['MASSEN'] = mined_text['MASSEN'].str.replace('  cm',' cm',regex=True)\n",
    "# mined_text['MASSEN'] = mined_text['MASSEN'].str.replace('mm',' mm',regex=True)\n",
    "\n",
    "# ## Separating the measurement unit from the values\n",
    "# mined_text['MASSEN_EINHEIT'] = mined_text['MASSEN'].str.extract(r'(cm|mm)')\n",
    "# mined_text['MASSEN'] = mined_text['MASSEN'].str.replace(r'[cm|mm]','',regex=True,case=False)"
   ]
  },
  {
   "cell_type": "code",
   "execution_count": null,
   "metadata": {},
   "outputs": [],
   "source": [
    "# ## Separating dimensions from one another when there are more than 1\n",
    "# text = mined_text['MASSEN'].str.split(r'x|, ')\n",
    "\n",
    "# df = pd.DataFrame(text)\n",
    "\n",
    "# df['MASSEN_1'] = ''\n",
    "# df['MASSEN_2'] = ''\n",
    "# df['MASSEN_3'] = ''\n",
    "\n",
    "# for index, row in df.iterrows():\n",
    "#     numbers = row['MASSEN']\n",
    "#     if isinstance(numbers, list):\n",
    "#         if len(numbers) == 1:\n",
    "#             df.at[index, 'MASSEN_1'] = numbers[0]\n",
    "#         elif len(numbers) == 2:\n",
    "#             df.at[index, 'MASSEN_1'] = numbers[0]\n",
    "#             df.at[index, 'MASSEN_2'] = numbers[1]\n",
    "#         elif len(numbers) == 3:\n",
    "#             df.at[index, 'MASSEN_1'] = numbers[0]\n",
    "#             df.at[index, 'MASSEN_2'] = numbers[1]\n",
    "#             df.at[index, 'MASSEN_3'] = numbers[2]\n",
    "\n",
    "# df.drop(columns=['MASSEN'], inplace=True)\n",
    "\n",
    "# mined_text['MASSEN_1'] = df['MASSEN_1']\n",
    "# mined_text['MASSEN_2'] = df['MASSEN_2']\n",
    "# mined_text['MASSEN_3'] = df['MASSEN_3']"
   ]
  },
  {
   "cell_type": "code",
   "execution_count": null,
   "metadata": {},
   "outputs": [],
   "source": [
    "## Extracting volume and size information and uniforming the formatting\n",
    "mined_text['VOLUME'] = mined_text['BESCHREIBUNG'].str.findall(r' *\\d+ ml| *\\d+l\\W| *\\d*,*\\d+ *l+[iter]*\\W| *\\d+ l\\W|\\d+-\\d+ ml|\\d+-\\d+ l',flags=re.IGNORECASE)\n",
    "mined_text['REMAINED_TEXT'] = mined_text['REMAINED_TEXT'].str.replace(r' *\\d+ ml| *\\d+l\\W| *\\d*,*\\d+ *l+[iter]*\\W| *\\d+ l\\W|\\d+-\\d+ ml|\\d+-\\d+ l','',regex=True,case=False)\n",
    "\n",
    "# mined_text['VOLUME'] = mined_text['VOLUME'].str.replace(r'L',' L',regex=True)\n",
    "# mined_text['VOLUME'] = mined_text['VOLUME'].str.replace(r'Liter',' L',regex=True,case=False)\n",
    "# mined_text['VOLUME'] = mined_text['VOLUME'].str.replace(r'l',' L',regex=True)\n",
    "\n",
    "# mined_text['VOLUME'] = mined_text['VOLUME'].str.replace(r'  L',' L',regex=True)\n",
    "# mined_text['VOLUME'] = mined_text['VOLUME'].str.replace(r'm L','mL',regex=True)\n",
    "\n",
    "# ## Separating the measuring unit from the values\n",
    "# mined_text['VOLUME_EINHEIT'] = mined_text['VOLUME'].str.extract(r'(L|mL)')\n",
    "# mined_text['VOLUME'] = mined_text['VOLUME'].str.replace(r'[L|mL]','',regex=True)\n"
   ]
  },
  {
   "cell_type": "code",
   "execution_count": null,
   "metadata": {},
   "outputs": [],
   "source": [
    "## Extracting info about the Deckel\n",
    "mined_text['DECKEL'] = mined_text['BESCHREIBUNG'].str.extract(r'(mit deckel|ohne deckel|mit glasdeckel|m.Deckel|\\+Deckel|\\+ Deckel|\\(Inkl. Deckel\\))',flags=re.IGNORECASE)\n",
    "# mined_text['REMAINED_TEXT'] = mined_text['REMAINED_TEXT'].str.replace(r'mit deckel|ohne deckel|mit glasdeckel|m.Deckel|\\+Deckel|\\+ Deckel|\\(Inkl. Deckel\\)','',regex=True, case=False)\n",
    "# mined_text['DECKEL'] = mined_text['BESCHREIBUNG'].str.replace(r'mit deckel|ohne deckel|mit glasdeckel|m.Deckel|\\+Deckel|\\+ Deckel|\\(Inkl. Deckel\\)','Ja',regex=True,case=False)\n",
    "mined_text['DECKEL'] = mined_text['DECKEL'].str.replace(r'mit deckel|mit glasdeckel|m.Deckel|\\+Deckel|\\+ Deckel|\\(Inkl\\. Deckel\\)','Ja',regex=True,case=False)\n",
    "mined_text['DECKEL'] = mined_text['DECKEL'].str.replace(r'ohne deckel','Nein',regex=True,case=False)"
   ]
  },
  {
   "cell_type": "code",
   "execution_count": null,
   "metadata": {},
   "outputs": [],
   "source": [
    "def capitalize_list(lst):\n",
    "    new_list = []\n",
    "    for item in lst:\n",
    "        item = item.lstrip()\n",
    "        item = item.capitalize()\n",
    "        new_list.append(item)\n",
    "    new_list = list(set(new_list))\n",
    "    result = ' ,'.join(map(str,new_list))\n",
    "    return result\n"
   ]
  },
  {
   "cell_type": "code",
   "execution_count": null,
   "metadata": {},
   "outputs": [],
   "source": [
    "## Extracting shape info\n",
    "mined_text['FORM'] = mined_text['BESCHREIBUNG'].str.findall(r'\\Wrund|\\Woval|rechteckig|eckig|quadratisch',flags=re.IGNORECASE)\n",
    "# mined_text['FORM'] = mined_text['FORM'].str.lstrip()\n",
    "# mined_text['FORM'] = mined_text['FORM'].str.capitalize()\n",
    "# mined_text['REMAINED_TEXT'] = mined_text['REMAINED_TEXT'].str.replace(r' rund| oval|rechteckig|eckig|quadratisch','',regex=True, case=False)\n",
    "mined_text['FORM']  = mined_text['FORM'].apply(capitalize_list)\n",
    "\n"
   ]
  },
  {
   "cell_type": "code",
   "execution_count": null,
   "metadata": {},
   "outputs": [],
   "source": [
    "## Extracting info about the griff\n",
    "mined_text['GRIFF'] = mined_text['BESCHREIBUNG'].str.findall(r'Gußeisen-* *griffe*n*|Edelstahl-* *griffe|Edelst.-Griffe*n*|Edelstahlgriffe*n*|Gusseisen-* *griffe*n*|EDEL- STAHLgriffe| \\\n",
    "                                                         |Bronze-? ?griffe?n?|Bronzegriffe*n*|Bronze Griffe*n*|mit griffe*n*|griffe*n*|mit \\w+ *griffe*|Hohlgriff',flags=re.IGNORECASE)\n",
    "# mined_text['REMAINED_TEXT'] = mined_text['REMAINED_TEXT'].str.replace(r'Gußeisen-* *griffe*n*|Edelstahl-* *griffe*n*|Edelst.-Griffe*n*|Edelstahlgriffe*n*|Gusseisen-* *griffe*n*|EDEL- STAHLgriffe| \\\n",
    "#                                                          |Bronze-? ?griffe?n?|Bronzegriffe*n*|Bronze Griffe*n*|mit griffe*n*|griffe*n*|mit \\w+ *griffe*n*','',regex=True, case=False)\n",
    "# mined_text['GRIFF'] = mined_text['GRIFF'].str.replace(r'Gußeisen-* *griffe*n*|Edelstahl-* *griffe|Edelst.-Griffe*n*|Edelstahlgriffe*n*|Gusseisen-* *griffe*n*|EDEL- STAHLgriffe| \\\n",
    "#                                                          |Bronze-? ?griffe?n?|Bronzegriffe*n*|Bronze Griffe*n*|mit griffe*n*|griffe*n*|mit \\w+ *griffe*','Ja',regex=True,case=False)\n",
    "# mined_text['GRIFF'] = mined_text['GRIFF'].str.capitalize()\n",
    "mined_text['GRIFF'] = mined_text['GRIFF'].apply(capitalize_list)\n",
    "\n",
    "mined_text['GRIFF'] = mined_text['GRIFF'].str.replace(r'^Griffen ,Griffe|^Griffe*n*|^Mit griffe*n*','Griff',regex=True,case=False)\n",
    "mined_text['GRIFF'] = mined_text['GRIFF'].str.replace(r'^Griff ,|Mit | ,Griffe*n*$| ,Edelstahlgriffe$','',regex=True,case=False)\n",
    "mined_text['GRIFF'] = mined_text['GRIFF'].str.replace(r'^Griffe','Griff',regex=True,case=False)\n",
    "mined_text['GRIFF'] = mined_text['GRIFF'].str.capitalize()\n"
   ]
  },
  {
   "cell_type": "code",
   "execution_count": null,
   "metadata": {},
   "outputs": [],
   "source": [
    "### What is its core material\n",
    "mined_text['KERN'] = mined_text['BESCHREIBUNG'].str.findall(r'\\S+kern',flags=re.IGNORECASE)\n",
    "mined_text['REMAINED_TEXT'] = mined_text['REMAINED_TEXT'].str.replace(r'\\S+kern','',case=False,regex=True)\n",
    "mined_text['KERN'] = mined_text['KERN'].apply(lambda x: \" / \".join(set(x)))"
   ]
  },
  {
   "cell_type": "code",
   "execution_count": null,
   "metadata": {},
   "outputs": [],
   "source": [
    "## Extracting materials (so many variations that can be for different parts of the item)\n",
    "mined_text['MATERIALS'] = mined_text['BESCHREIBUNG'].str.findall(r'steinzeug|granit\\W|edelstahl\\W|ohne keramik|Guss-*Aluminium\\W|Gussaluminium\\W|Guß-* *eisen|titan|kupfer|hartglas| \\\n",
    "                                                                 |Anodisierte Aluminium\\W|Glaskeramik edelst.|keramik|Gußeisen\\W|Gusseisen\\W| Guss | eisen |holz|porzellan|Guß- alu\\W|Edelst\\.| \\\n",
    "                                                                 |Kunststoff|Metall\\w*|\\w*stein|Edelstahlböden',flags=re.IGNORECASE)\n",
    "# mined_text['REMAINED_TEXT'] = mined_text['REMAINED_TEXT'].str.replace(r'steinzeug|granit|edelstahl|ohne keramik|[Guss-]*Aluminium|Gussaluminium|Guß-* *eisen|titan|kupfer|hartglas|Anodisierte Aluminium| \\\n",
    "#                                                  edelst.|keramik|Gußeisen|Gusseisen|Guss|eisen|holz|porzellan|Guß- alu|Edelst.|Kunststoff|Metall\\w*|\\w*stein|Glaskeramik','',regex=True,case=False)\n",
    "\n",
    "# mined_text['MATERIALS'] = mined_text['MATERIALS'].apply(capitalize_list)\n"
   ]
  },
  {
   "cell_type": "code",
   "execution_count": null,
   "metadata": {},
   "outputs": [],
   "source": [
    "def lower_case(x):\n",
    "    return [i.lower() for i in x]\n",
    "def remove_char(x):\n",
    "    return [re.sub(r',|-| $|\\.$|\\/$|\\\\n','',i) for i in x]\n",
    "    # return [i.replace(r',|-','',regex=True) for i in x]\n"
   ]
  },
  {
   "cell_type": "code",
   "execution_count": null,
   "metadata": {},
   "outputs": [],
   "source": [
    "mined_text['MATERIALS'] = mined_text['MATERIALS'].map(lower_case)\n",
    "mined_text['MATERIALS'] = mined_text['MATERIALS'].map(remove_char)\n",
    "mined_text['MATERIALS'] = mined_text['MATERIALS'].map(set)\n",
    "mined_text['MATERIALS'] = mined_text['MATERIALS'].map(list)"
   ]
  },
  {
   "cell_type": "code",
   "execution_count": null,
   "metadata": {},
   "outputs": [],
   "source": [
    "## Extracting information about temperature\n",
    "mined_text['TEMPERATUR'] = mined_text['BESCHREIBUNG'].str.extract(r'(von \\d+ °C bis \\d+ °C|von \\d+ °C bis \\d+ °C|bis \\d+ °C|von \\d+ °C|\\d+-\\d+ °C|bis \\+\\d+ °C|[Betriebstemperatur]* \\d+-\\d+ °C)',flags=re.IGNORECASE)\n",
    "# mined_text['REMAINED_TEXT'] = mined_text['REMAINED_TEXT'].str.replace(r'von \\d+ °C bis \\d+ °C|von \\d+ °C bis \\d+ °C|bis \\d+ °C|von \\d+ °C|\\d+-\\d+ °C','',regex=True,case=False)"
   ]
  },
  {
   "cell_type": "code",
   "execution_count": null,
   "metadata": {},
   "outputs": [],
   "source": [
    "### Info about Kratz resistence\n",
    "mined_text['KRATZ'] = mined_text['BESCHREIBUNG'].str.extract(r'(kratz-* und schnittresistent|Kratz Und Schnittfesten|Kratzfest|kratzresistent)',flags=re.IGNORECASE)\n",
    "# mined_text['REMAINED_TEXT'] = mined_text['REMAINED_TEXT'].str.replace(r'kratz-* und schnittresistent|Kratz Und Schnittfesten|Kratzfest Und Robust|Kratzfest|kratzresistent','',case=False,regex=True)\n",
    "# mined_text['KRATZ'] = mined_text['KRATZ'].str.join(' ')\n",
    "mined_text['KRATZ'] = mined_text['KRATZ'].str.capitalize()\n"
   ]
  },
  {
   "cell_type": "code",
   "execution_count": null,
   "metadata": {},
   "outputs": [],
   "source": [
    "### Info about Antihaftbeschichtung\n",
    "mined_text['BESCHICTUNG'] = mined_text['BESCHREIBUNG'].str.extract(r'(Antihaftbeschichtung|Anti-* *haftbeschichtung|Antihaftversiegelung|antihaftbeschichteter*)',flags=re.IGNORECASE)\n",
    "# mined_text['REMAINED_TEXT'] = mined_text['REMAINED_TEXT'].str.replace(r'Antihaftbeschichtung|Anti-* *haftbeschichtung|Antihaftversiegelung|antihaftbeschichteter*','',case=False,regex=True)\n",
    "mined_text.loc[ mined_text['BESCHICTUNG'].isna()==False ,'BESCHICTUNG'] = 'Ja'\n"
   ]
  },
  {
   "cell_type": "code",
   "execution_count": null,
   "metadata": {},
   "outputs": [],
   "source": [
    "### Info about often oder grillfest\n",
    "mined_text['OFENFEST'] = mined_text['BESCHREIBUNG'].str.extract(r'(Ofenfest[ bis \\d+ °C]*|backofenfest[ bis \\d+ °C]*|grillfest[ bis \\d+ °C]*)',flags=re.IGNORECASE)\n",
    "# mined_text['REMAINED_TEXT'] = mined_text['REMAINED_TEXT'].str.replace(r'Ofenfest[ bis \\d+ °C]*|backofenfest[ bis \\d+ °C]*|grillfest[ bis \\d+ °C]*','',case=False,regex=True)\n",
    "mined_text['OFENFEST'] = mined_text['OFENFEST'].str.rstrip(r'I$| | S$| Sc$')\n",
    "mined_text['OFENFEST'] = mined_text['OFENFEST'].str.capitalize()\n",
    "mined_text['OFENFEST'].unique()"
   ]
  },
  {
   "cell_type": "code",
   "execution_count": null,
   "metadata": {},
   "outputs": [],
   "source": [
    "### Info about Spuelmachine festness\n",
    "mined_text['SPUELMACHINEFEST'] = mined_text['BESCHREIBUNG'].str.findall(r'spülmaschinenfest',flags=re.IGNORECASE)\n",
    "# mined_text['REMAINED_TEXT'] = mined_text['REMAINED_TEXT'].str.replace(r'spülmaschinenfest','',case=False,regex=True)\n",
    "mined_text['SPUELMACHINEFEST'] = mined_text['SPUELMACHINEFEST'].str.replace('spülmaschinenfest', 'Ja')"
   ]
  },
  {
   "cell_type": "code",
   "execution_count": null,
   "metadata": {},
   "outputs": [],
   "source": [
    "### Info about conductivity\n",
    "mined_text['SUPERLEITFAEHIG'] = mined_text['BESCHREIBUNG'].str.findall(r'Superleitfähig',flags=re.IGNORECASE)\n",
    "# mined_text['REMAINED_TEXT'] = mined_text['REMAINED_TEXT'].str.replace(r'Superleitfähig','',case=False,regex=True)\n",
    "mined_text['SUPERLEITFAEHIG'] = mined_text['SUPERLEITFAEHIG'].str.replace('Superleitfähig', 'Ja')"
   ]
  },
  {
   "cell_type": "code",
   "execution_count": null,
   "metadata": {},
   "outputs": [],
   "source": [
    "### Is the item HG Exklusiv or not\n",
    "mined_text['HGEXKLUSIV'] = mined_text['BESCHREIBUNG'].str.findall(r'Hagen Grote Exklusiv',flags=re.IGNORECASE)\n",
    "# mined_text['REMAINED_TEXT'] = mined_text['REMAINED_TEXT'].str.replace(r'Hagen Grote Exklusiv','',case=False,regex=True)\n",
    "mined_text['HGEXKLUSIV'] = mined_text['HGEXKLUSIV'].str.replace('Hagen Grote Exklusiv', 'Ja')"
   ]
  },
  {
   "cell_type": "code",
   "execution_count": null,
   "metadata": {},
   "outputs": [],
   "source": [
    "### Is it induction friendly or not\n",
    "mined_text['INDUKTION'] = mined_text['BESCHREIBUNG'].str.extract(r'(alle Herdarten|inklusive Induktion|Einschließlich Induktion|Induktionsfähig|Induktion geeignet|inkl. Induktion)',flags=re.IGNORECASE)\n",
    "# mined_text['REMAINED_TEXT'] = mined_text['REMAINED_TEXT'].str.replace(r'alle Herdarten|inklusive Induktion|Einschließlich Induktion|Induktionsfähig|Induktion geeignet|inkl. Induktion','',case=False,regex=True)\n",
    "mined_text['INDUKTION'] = mined_text['INDUKTION'].str.replace(r'inklusive Induktion|Einschließlich Induktion|Induktionsfähig|Induktion geeignet|inkl. Induktion','Inkl. Induktion',regex=True,case=False)\n",
    "mined_text['INDUKTION'] = mined_text['INDUKTION'].str.replace(r'alle Herdarten','Alle Herdarten',regex=True,case=False)\n",
    "mined_text['INDUKTION'].unique()"
   ]
  },
  {
   "cell_type": "code",
   "execution_count": null,
   "metadata": {},
   "outputs": [],
   "source": [
    "### Does it have Knauf or not\n",
    "mined_text['KNAUF'] = mined_text['BESCHREIBUNG'].str.extract(r'(\\S*knauf)',flags=re.IGNORECASE)\n",
    "# mined_text['REMAINED_TEXT'] = mined_text['REMAINED_TEXT'].str.replace(r'knauf|dicht knauf','',case=False,regex=True)\n"
   ]
  },
  {
   "cell_type": "code",
   "execution_count": null,
   "metadata": {},
   "outputs": [],
   "source": [
    "### Is it emailliert or not\n",
    "mined_text['EMAILLIERT'] = mined_text['BESCHREIBUNG'].str.extract(r'(\\S*Emailliert\\S*|\\S*Emaille\\S*)',flags=re.IGNORECASE)\n",
    "# mined_text['REMAINED_TEXT'] = mined_text['REMAINED_TEXT'].str.replace(r'Emailliert\\w+|Glas-Emaille','',case=False,regex=True)\n",
    "mined_text['EMAILLIERT'] = mined_text['EMAILLIERT'].str.replace(r'emailliertes|emailliertem|emailliert,*|Emaille','Emailliert',regex=True,case=False)\n",
    "mined_text['EMAILLIERT'] = mined_text['EMAILLIERT'].str.replace(r'emaille-versiegelt,','Emaille-Versiegelt',regex=True,case=False)\n",
    "mined_text['EMAILLIERT'] = mined_text['EMAILLIERT'].str.replace(r'GlasEmailliert','Glas-Emailliert',regex=True,case=False)\n",
    "mined_text['EMAILLIERT'] = mined_text['EMAILLIERT'].str.replace(r'HartEmailliert','Hart-Emailliert',regex=True,case=False)\n",
    "mined_text['EMAILLIERT'] = mined_text['EMAILLIERT'].str.replace(r'Hart-Emailliert-Oberfläche','Hartemailliert-Oberfläche',regex=True,case=False)\n",
    "mined_text['EMAILLIERT'] = mined_text['EMAILLIERT'].str.replace(r',','',regex=True,case=False)\n"
   ]
  },
  {
   "cell_type": "code",
   "execution_count": null,
   "metadata": {},
   "outputs": [],
   "source": [
    "### What is its brand?\n",
    "mined_text['MARKE'] = mined_text['BESCHREIBUNG'].str.extract(r'(Le *Creuset|smeg|kitchenaid)',flags=re.IGNORECASE)\n",
    "# mined_text['REMAINED_TEXT'] = mined_text['REMAINED_TEXT'].str.replace(r'Le *Creuset|smeg|kitchenaid','',case=False,regex=True)\n",
    "mined_text['MARKE'] = mined_text['MARKE'].str.replace('Le creuset','Le Creuset')\n"
   ]
  },
  {
   "cell_type": "code",
   "execution_count": null,
   "metadata": {},
   "outputs": [],
   "source": [
    "### Is it Teflon or not\n",
    "mined_text['TEFLON'] = mined_text['BESCHREIBUNG'].str.extract(r'(teflon)',flags=re.IGNORECASE)\n",
    "# mined_text['REMAINED_TEXT'] = mined_text['REMAINED_TEXT'].str.replace(r'Teflon','',case=False,regex=True)\n",
    "mined_text['TEFLON'] = mined_text['TEFLON'].str.replace('teflon','Ja',case=False)"
   ]
  },
  {
   "cell_type": "code",
   "execution_count": null,
   "metadata": {},
   "outputs": [],
   "source": [
    "### Is it handgeschmiedeten?\n",
    "mined_text['HANDGESCHMIEDETEN'] = mined_text['BESCHREIBUNG'].str.extract(r'(Handgeschmiedeten)',flags=re.IGNORECASE)\n",
    "# mined_text['REMAINED_TEXT'] = mined_text['REMAINED_TEXT'].str.replace(r'Handgeschmiedeten','',case=False,regex=True)\n",
    "mined_text['HANDGESCHMIEDETEN'] = mined_text['HANDGESCHMIEDETEN'].str.replace('handgeschmiedeten','Ja',case=False)\n",
    "mined_text['HANDGESCHMIEDETEN'].unique()"
   ]
  },
  {
   "cell_type": "code",
   "execution_count": null,
   "metadata": {},
   "outputs": [],
   "source": [
    "### IS it Wärmeleitfähigkeit?\n",
    "mined_text['WAERMLEITFAEHIGKEIT'] = mined_text['BESCHREIBUNG'].str.extract('(Wärmeleitfähigkeit)',flags=re.IGNORECASE)\n",
    "# mined_text['REMAINED_TEXT'] = mined_text['REMAINED_TEXT'].str.replace(r'Wärmeleitfähigkeit','',case=False,regex=True)\n",
    "\n",
    "mined_text['WAERMLEITFAEHIGKEIT'] = mined_text['WAERMLEITFAEHIGKEIT'].str.replace('Wärmeleitfähigkeit','Ja',case=False)"
   ]
  },
  {
   "cell_type": "code",
   "execution_count": null,
   "metadata": {},
   "outputs": [],
   "source": [
    "### how is its fusse?\n",
    "mined_text['FUSSE'] = mined_text['BESCHREIBUNG'].str.extract(r'(rutschfeste Füßen*|rutschfester Standfuß|Aufstellfuß)',flags=re.IGNORECASE)\n",
    "# mined_text['REMAINED_TEXT'] = mined_text['REMAINED_TEXT'].str.replace(r'rutschfeste Füße','',case=False,regex=True)\n",
    "mined_text['FUSSE'] = mined_text['FUSSE'].str.replace(r'rutschfeste Füßen*|rutschfester Standfuß|rutschfeste Füße|rutschfester Standfuß','Rutschfeste Füße',regex=True,case=False)\n",
    "mined_text['FUSSE'].unique()"
   ]
  },
  {
   "cell_type": "code",
   "execution_count": null,
   "metadata": {},
   "outputs": [],
   "source": [
    "### Is it slow-cooking friendly?\n",
    "mined_text['SLOWKOCHEN'] = mined_text['BESCHREIBUNG'].str.extract(r'(langsames*, sanftes* Schmoren)',flags=re.IGNORECASE)\n",
    "# mined_text['REMAINED_TEXT'] = mined_text['REMAINED_TEXT'].str.replace(r'langsames*, sanftes* Schmoren','',case=False,regex=True)\n",
    "mined_text['SLOWKOCHEN'] = mined_text['SLOWKOCHEN'].str.replace(r'langsames*, sanftes* Schmoren','Ja',regex=True,case=False)"
   ]
  },
  {
   "cell_type": "code",
   "execution_count": null,
   "metadata": {},
   "outputs": [],
   "source": [
    "### What is its voltage?\n",
    "mined_text['VOLT'] = mined_text['BESCHREIBUNG'].str.extract(r'(\\d+ *V\\W|\\d+ VOLT)',flags=re.IGNORECASE)\n",
    "# mined_text['REMAINED_TEXT'] = mined_text['REMAINED_TEXT'].str.replace(r' \\d+V | \\d+ VOLT','',case=False,regex=True)\n",
    "mined_text['VOLT'] = mined_text['VOLT'].str.replace(r'230V/|230V ','230 V',regex=True,case=False)\n",
    "mined_text['VOLT'].unique()"
   ]
  },
  {
   "cell_type": "code",
   "execution_count": null,
   "metadata": {},
   "outputs": [],
   "source": [
    "### What is its power consumption?\n",
    "mined_text['WATT'] = mined_text['BESCHREIBUNG'].str.extract(r'([\\d*\\.]*\\d+ *W\\W| \\d+ *WATT)',flags=re.IGNORECASE)\n",
    "# mined_text['REMAINED_TEXT'] = mined_text['REMAINED_TEXT'].str.replace(r'[\\d*\\.]*\\d+ *W\\W| \\d+ *WATT','',case=False,regex=True)\n",
    "mined_text['WATT'] = mined_text['WATT'].str.rstrip(',')\n",
    "mined_text['WATT'] = mined_text['WATT'].str.replace(r'\\.| ','',regex=True)\n",
    "mined_text['WATT'].unique()"
   ]
  },
  {
   "cell_type": "code",
   "execution_count": null,
   "metadata": {},
   "outputs": [],
   "source": [
    "### How long is its cable?\n",
    "mined_text['KABEL'] = mined_text['BESCHREIBUNG'].str.extract(r'([\\d,]*\\d+ *c*m [Anschluss]*kabel|\\d+ m langes \\d+ °C hitzebeständiges Kabel)',flags=re.IGNORECASE)\n",
    "# mined_text['REMAINED_TEXT'] = mined_text['REMAINED_TEXT'].str.replace(r'[\\d,]*\\d+ *c*m [Anschluss]*kabel|\\d+ m langes \\d+ °C hitzebeständiges Kabel','',case=False,regex=True)\n",
    "mined_text['KABEL'] = mined_text['KABEL'].str.extract(r'(\\d+,*\\d* c*m)',flags=re.IGNORECASE)\n",
    "mined_text['KABEL'].unique()"
   ]
  },
  {
   "cell_type": "code",
   "execution_count": null,
   "metadata": {},
   "outputs": [],
   "source": [
    "### How much pressure it uses\n",
    "mined_text['DRUCK'] = mined_text['BESCHREIBUNG'].str.extract(r'(\\d+ bar[,| ])',flags=re.IGNORECASE)\n",
    "# mined_text['REMAINED_TEXT'] = mined_text['REMAINED_TEXT'].str.replace(r'\\d+ bar[,| ]','',case=False,regex=True)\n",
    "mined_text['DRUCK'] = mined_text['DRUCK'].str.rstrip(r',| ')\n",
    "mined_text['DRUCK'].unique()"
   ]
  },
  {
   "cell_type": "code",
   "execution_count": null,
   "metadata": {},
   "outputs": [],
   "source": [
    "### Grid Property\n",
    "mined_text['GITTERNETZ'] = mined_text['BESCHREIBUNG'].str.extract(r'(Gitternetz)',flags=re.IGNORECASE)\n",
    "# mined_text['REMAINED_TEXT'] = mined_text['REMAINED_TEXT'].str.replace(r'Gitternetz','',case=False,regex=True)\n",
    "mined_text['GITTERNETZ'] = mined_text['GITTERNETZ'].replace('Gitternetz','Ja')\n",
    "mined_text['GITTERNETZ'] .unique()"
   ]
  },
  {
   "cell_type": "code",
   "execution_count": null,
   "metadata": {},
   "outputs": [],
   "source": [
    "### Handwasche empfohlen Property\n",
    "# mined_text[mined_text['ORIGINAL_BESCHREIBUNG'].str.contains('Handwäsche empfohlen')]\n",
    "mined_text.loc[mined_text['ORIGINAL_BESCHREIBUNG'].str.contains('Handwäsche empfohlen'),'HANDWASCHE_EMPFOHLEN'] = 'Ja'"
   ]
  },
  {
   "cell_type": "code",
   "execution_count": null,
   "metadata": {},
   "outputs": [],
   "source": [
    "### Magnetic Boden\n",
    "mined_text['MAGNETICBODEN'] = mined_text['BESCHREIBUNG'].str.extract(r'(magnetischen Edelstahl-*böden|magnetischen Edelstahl-Spezialboden|magnetischem Edelstahl-Spezialboden)',flags=re.IGNORECASE)\n",
    "# mined_text['REMAINED_TEXT'] = mined_text['REMAINED_TEXT'].str.replace(r'magnetischen Edelstahlböden|magnetischen Edelstahl-Spezialboden|magnetischem Edelstahl-Spezialboden','',case=False,regex=True)\n",
    "mined_text['MAGNETICBODEN'] = mined_text['MAGNETICBODEN'].str.replace(r'magnetischen Edelstahl-*böden|magnetischen Edelstahl-Spezialboden|magnetischem Edelstahl-Spezialboden',\n",
    "                                                                      'Magnetischen Edelstahlboden',regex=True,case=False)\n",
    "\n"
   ]
  },
  {
   "cell_type": "code",
   "execution_count": null,
   "metadata": {},
   "outputs": [],
   "source": [
    "set_items = mined_text[mined_text['TEILIG'].isna() == False][['NUMMER','NAME','ORIGINAL_BESCHREIBUNG','TEILIG','TEMPERATUR','GRIFF','HOHE','BODEN','FORM','MATERIALS','KRATZ','OFENFEST','KERN', 'INDUKTION', 'KNAUF',\n",
    "                                                              'BESCHICTUNG','EMAILLIERT', 'TEFLON','MAGNETICBODEN','STARKE','HANDWASCHE_EMPFOHLEN','BESCHREIBUNG']]\n",
    "set_items['ORIGINAL_BESCHREIBUNG'] = set_items['ORIGINAL_BESCHREIBUNG'].str.lower()\n",
    "set_items['ORIGINAL_BESCHREIBUNG'] = set_items['ORIGINAL_BESCHREIBUNG'].str.split('<li>')\n",
    "set_items['ORIGINAL_BESCHREIBUNG']"
   ]
  },
  {
   "cell_type": "code",
   "execution_count": null,
   "metadata": {},
   "outputs": [],
   "source": [
    "set_items['TEILIG'] = set_items['TEILIG'].str.extract(r'(\\d)')\n",
    "mined_text = mined_text[mined_text['TEILIG'].isna() == True]"
   ]
  },
  {
   "cell_type": "code",
   "execution_count": null,
   "metadata": {},
   "outputs": [],
   "source": [
    "## Reordering the columns\n",
    "mined_text = mined_text[['NUMMER','NAME', 'ORIGINAL_BESCHREIBUNG', 'VOLUME', 'MASSEN', 'TEMPERATUR',\n",
    "      'GRIFF','GEWICHT', 'HOHE', 'BODEN', 'DECKEL', 'FORM', 'MATERIALS', 'KRATZ','OFENFEST','SPUELMACHINEFEST','SUPERLEITFAEHIG','HGEXKLUSIV','KERN','INDUKTION','KNAUF', 'BESCHICTUNG',\n",
    "      'EMAILLIERT','MARKE','TEFLON','HANDGESCHMIEDETEN','WAERMLEITFAEHIGKEIT','FUSSE','SLOWKOCHEN','VOLT','WATT','KABEL','DRUCK','GITTERNETZ','MAGNETICBODEN','STARKE','HANDWASCHE_EMPFOHLEN','BESCHREIBUNG']]\n"
   ]
  },
  {
   "cell_type": "code",
   "execution_count": null,
   "metadata": {},
   "outputs": [],
   "source": [
    "set_items['ORIGINAL_BESCHREIBUNG']"
   ]
  },
  {
   "cell_type": "code",
   "execution_count": null,
   "metadata": {},
   "outputs": [],
   "source": [
    "\n",
    "set_items['DURCHMESSER'] = set_items['BESCHREIBUNG'].str.findall(r'[Boden]* Ø* \\d+,*\\d*\\/\\d,*\\d*\\/\\d*,*\\d* cm|[Ø|ø]* \\d+,*\\d* cm|\\d+,*\\d* x \\d+,*\\d* x \\d+,*\\d* cm \\(B\\/T\\/H\\)| \\\n",
    "                                                                 Ø* *\\d+,*\\d*\\/\\d+,*\\d*\\/\\d+,*\\d* cm|\\(Ø \\d+,*\\d*, \\d+,*\\d*, \\d+,*\\d* cm\\)|\\d+,*\\d* x \\d+,*\\d* cm')\n",
    "set_items['DURCHMESSER']"
   ]
  },
  {
   "cell_type": "code",
   "execution_count": null,
   "metadata": {},
   "outputs": [],
   "source": []
  },
  {
   "cell_type": "code",
   "execution_count": null,
   "metadata": {},
   "outputs": [],
   "source": [
    "# ## Exporting data into Excel\n",
    "# mined_text.to_excel('Exports/kuchen_gerate_mined_sample_1.xlsx')"
   ]
  },
  {
   "cell_type": "code",
   "execution_count": null,
   "metadata": {},
   "outputs": [],
   "source": [
    "with pd.ExcelWriter(\"Exports/kuchen_gerate_mined_sample_1.xlsx\") as writer:\n",
    "    mined_text.to_excel(writer, sheet_name=\"Non-Set\")  \n",
    "    set_items.to_excel(writer, sheet_name=\"Set\")  "
   ]
  },
  {
   "cell_type": "code",
   "execution_count": null,
   "metadata": {},
   "outputs": [],
   "source": []
  },
  {
   "cell_type": "code",
   "execution_count": null,
   "metadata": {},
   "outputs": [],
   "source": []
  },
  {
   "cell_type": "code",
   "execution_count": null,
   "metadata": {},
   "outputs": [],
   "source": []
  },
  {
   "cell_type": "code",
   "execution_count": null,
   "metadata": {},
   "outputs": [],
   "source": []
  },
  {
   "cell_type": "code",
   "execution_count": null,
   "metadata": {},
   "outputs": [],
   "source": []
  }
 ],
 "metadata": {
  "kernelspec": {
   "display_name": "Python 3",
   "language": "python",
   "name": "python3"
  },
  "language_info": {
   "codemirror_mode": {
    "name": "ipython",
    "version": 3
   },
   "file_extension": ".py",
   "mimetype": "text/x-python",
   "name": "python",
   "nbconvert_exporter": "python",
   "pygments_lexer": "ipython3",
   "version": "3.12.3"
  }
 },
 "nbformat": 4,
 "nbformat_minor": 2
}
