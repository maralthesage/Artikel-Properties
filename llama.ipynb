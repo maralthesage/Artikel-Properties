{
 "cells": [
  {
   "cell_type": "markdown",
   "metadata": {},
   "source": [
    "# Data Extraction using Ollama and Mixtral 7x8b\n",
    "\n",
    "Hardware: Apple M3 Max - 64GB RAM\n",
    "\n",
    "1. I installed the models mixtral:7x8b and mixtral:8x22b in terminal and then I tried them in python using the following code. <br><br>\n",
    "2. Any variation in prompt leads to different results. To extract information from text, it must be explicitly mentioned in the prompt that the model should look for answers only in the text. However, it still made some inferences on its own, without seeing the explicit keyword for a property. As an example, being dishwasher_safe is a property that should be explicitly mentioned in the product description, however, with some materials, the model inferred them to be dishwasher_safe, things like glass as an example. However that is not what needed and need to be further refined.<br><br>\n",
    "3. An example also helps with further refinement of the output of the model. with explicit keys, the model looks for specific properties in text that is needed for that product group. This may change from one product category to the next. However, product description text for each product is not standard with all the needed information. Therefore, some items need to be null or None, and we should also ask the model that when it cannot find the answers in the model, consider the value for the keys as None. It is also important to ask the model to only use keys given in the example to get uniform results. However, the model may sometimes diverge from the instruction, but the majority of responses will be uniformed."
   ]
  },
  {
   "cell_type": "code",
   "execution_count": null,
   "metadata": {},
   "outputs": [],
   "source": [
    "# !pip install pandas ollama"
   ]
  },
  {
   "cell_type": "code",
   "execution_count": 1,
   "metadata": {},
   "outputs": [],
   "source": [
    "import pandas as pd\n",
    "from values import *\n",
    "import ollama\n",
    "import warnings\n",
    "warnings.filterwarnings('ignore')\n",
    "# pd.set_option('display.max_colwidth', 50)"
   ]
  },
  {
   "cell_type": "code",
   "execution_count": 2,
   "metadata": {},
   "outputs": [],
   "source": [
    "val = Values()"
   ]
  },
  {
   "cell_type": "markdown",
   "metadata": {},
   "source": [
    "### DATA CLEANING\n"
   ]
  },
  {
   "cell_type": "code",
   "execution_count": 39,
   "metadata": {},
   "outputs": [],
   "source": [
    "artikel_df = pd.read_excel(val.shop_file_path)\n",
    "marketing_artikel = pd.read_csv(val.marketing_artikel,encoding='latin-1', delimiter=';', on_bad_lines='skip',parse_dates=val.dates,dayfirst=True)"
   ]
  },
  {
   "cell_type": "code",
   "execution_count": 42,
   "metadata": {},
   "outputs": [],
   "source": [
    "marketing_artikel = marketing_artikel[marketing_artikel['WM'].isna()==True]"
   ]
  },
  {
   "cell_type": "code",
   "execution_count": 43,
   "metadata": {},
   "outputs": [],
   "source": [
    "### Cleaning and preparing Warengroup data\n",
    "warengrps = marketing_artikel[['NUMMER','WARENGR']]\n",
    "warengrps['WARENGR'] = pd.to_numeric(warengrps['WARENGR'],errors='coerce')\n",
    "warengrps.dropna(subset='WARENGR',inplace=True)\n",
    "warengrps['WARENGR'] = warengrps['WARENGR'].astype(int)\n",
    "warengrps.drop_duplicates(subset='NUMMER',inplace=True)\n",
    "\n",
    "### Selecting a list of columns from our artikels that we need\n",
    "artikels = artikel_df[['StoreId','Name','Beschreibung']]\n",
    "\n",
    "### Cleaning up the Artikelnumbers, renaming their column and removing unwanted information to connect this dataset with Warengroups data\n",
    "artikels['Number'] = artikels['StoreId'].str.split().str[0]\n",
    "\n",
    "### Connecting two datasets to find the warengroups of each artikel and select some of them for further analysis\n",
    "artikels_mit_wrgp = pd.merge(artikels,warengrps,how='left',left_on='Number',right_on='NUMMER')\n",
    "\n",
    "### Checking the items from right dataset and see if the left-join left some rows null and removing them\n",
    "artikels_mit_wrgp = artikels_mit_wrgp[artikels_mit_wrgp['NUMMER'].isna()==False]\n",
    "### Converting WARENGR column values from float to int\n",
    "artikels_mit_wrgp['WARENGR'] = artikels_mit_wrgp['WARENGR'].astype(int)"
   ]
  },
  {
   "cell_type": "code",
   "execution_count": 44,
   "metadata": {},
   "outputs": [],
   "source": [
    "### Selecting certain Warengroups and columns for further analysis\n",
    "kuchen_gerate = artikels_mit_wrgp[artikels_mit_wrgp['WARENGR'].isin([1203])]\n",
    "\n",
    "### Selecting the needed columns and uniforming the column names\n",
    "kuchen_gerate = kuchen_gerate[['WARENGR','NUMMER','Name','Beschreibung']]\n",
    "kuchen_gerate = kuchen_gerate.rename(columns={'Name':'NAME','Beschreibung':'BESCHREIBUNG'})"
   ]
  },
  {
   "cell_type": "code",
   "execution_count": 45,
   "metadata": {},
   "outputs": [],
   "source": [
    "### Removing rows without description\n",
    "for id,item in enumerate(kuchen_gerate['BESCHREIBUNG']):\n",
    "    kuchen_gerate = kuchen_gerate.dropna(subset='BESCHREIBUNG')\n",
    "\n",
    "kuchen_gerate['ORIGINAL_BESCHREIBUNG'] = kuchen_gerate['BESCHREIBUNG'].copy()"
   ]
  },
  {
   "cell_type": "code",
   "execution_count": 46,
   "metadata": {},
   "outputs": [
    {
     "name": "stdout",
     "output_type": "stream",
     "text": [
      "<class 'pandas.core.frame.DataFrame'>\n",
      "Index: 216 entries, 135 to 11217\n",
      "Data columns (total 5 columns):\n",
      " #   Column                 Non-Null Count  Dtype \n",
      "---  ------                 --------------  ----- \n",
      " 0   WARENGR                216 non-null    int64 \n",
      " 1   NUMMER                 216 non-null    object\n",
      " 2   NAME                   216 non-null    object\n",
      " 3   BESCHREIBUNG           216 non-null    object\n",
      " 4   ORIGINAL_BESCHREIBUNG  216 non-null    object\n",
      "dtypes: int64(1), object(4)\n",
      "memory usage: 10.1+ KB\n"
     ]
    }
   ],
   "source": [
    "### Removing unwanted characters and duplicates\n",
    "kuchen_gerate['BESCHREIBUNG'] = kuchen_gerate['BESCHREIBUNG'].str.replace(' ',' ',regex=True)\n",
    "kuchen_gerate['BESCHREIBUNG'] = kuchen_gerate['BESCHREIBUNG'].str.replace(r'<p>|</p>|<ul>|</ul>|<li>|</li>|<br>|<b>|</b>|<span.*>|<font.*>|<strong>|</strong>',' ',regex=True,case=False)\n",
    "kuchen_gerate['BESCHREIBUNG'] = kuchen_gerate['BESCHREIBUNG'].str.replace(r'&nbsp_|&nbsp;',' ',regex=True)\n",
    "kuchen_gerate['BESCHREIBUNG'] =kuchen_gerate['BESCHREIBUNG'].str.replace('&Oslash',' ')\n",
    "kuchen_gerate = kuchen_gerate.drop_duplicates()\n"
   ]
  },
  {
   "cell_type": "code",
   "execution_count": 48,
   "metadata": {},
   "outputs": [],
   "source": [
    "# Choosing certain columns and combining the name and Beschreibung as they both have product properties\n",
    "mined_text = kuchen_gerate[['NUMMER','NAME','BESCHREIBUNG','ORIGINAL_BESCHREIBUNG','WARENGR']].copy()\n",
    "mined_text['BESCHREIBUNG'] = mined_text['NAME'] + '\\n' +mined_text['BESCHREIBUNG']\n",
    "mined_text['BESCHREIBUNG'] = mined_text['BESCHREIBUNG'].str.lstrip()\n",
    "mined_text['BESCHREIBUNG'] = mined_text['BESCHREIBUNG'].str.rstrip()\n",
    "mined_text.reset_index(inplace=True)\n"
   ]
  },
  {
   "cell_type": "code",
   "execution_count": 26,
   "metadata": {},
   "outputs": [],
   "source": [
    "## JSON format for the response of the model\n",
    "example = {\"NUMMER\": str,\n",
    "           \"NAME\": str,\n",
    "           \"ART\":str,\n",
    "           \"MATERIAL\":list,\n",
    "           \"MASSEN\": r'\\d+ cm|mm',\n",
    "           'VOLUME': r'\\d+ l|ml',\n",
    "           'GEWICHT':r'\\d+ g|kg',\n",
    "           'VOLTAGE': r'\\d+V',\n",
    "           'WATT': r'\\d W',\n",
    "           'FARBE': str,\n",
    "           'SET': r'\\d+ teilig',\n",
    "           'OFENFEST': bool,\n",
    "           'SPUELMACHINEFEST':bool,\n",
    "            'BRAND':str,\n",
    "            'BESCHICHTUNG': str,\n",
    "            'TEMPERATUR': str,\n",
    "            'LED_ANZEIGE':bool,\n",
    "            'KABEL': str,\n",
    "            'RUTSCHFEST': bool,\n",
    "            'ANWENDUNG': str,\n",
    "            'ANDERE_EIGENSCHAFTEN': list\n",
    "           \n",
    "           }"
   ]
  },
  {
   "cell_type": "code",
   "execution_count": null,
   "metadata": {},
   "outputs": [],
   "source": [
    "### engineered prompt for data extraction\n",
    "prompt = f\"\"\"[INST]Bitte extrahieren Sie die Produktattribute aus dem folgenden Text und geben Sie sie im JSON-Format auf Deutsch aus. \n",
    "    Die Schlüssel sollten kurz sein (maximal 1 bis 2 Wörter) und die Werte sollten in maximal 50 Zeichen beschrieben werden. \n",
    "    Verwenden Sie nur die im Beispiel gegebenen Schlüssel. \n",
    "    Wenn Sie eine Information nicht finden können, geben Sie einfach an, dass Sie es nicht wissen, und versuchen Sie nicht, eine Antwort zu erfinden.\n",
    "\n",
    "    Beispiel-JSON-Format: {example}\n",
    "    [/INST]\n",
    "\n",
    "    ProduktID: {id}\n",
    "    Produktname: {name}\n",
    "    Beschreibung: {description}\n",
    "    \"\"\""
   ]
  },
  {
   "cell_type": "code",
   "execution_count": null,
   "metadata": {},
   "outputs": [],
   "source": [
    "# a list of to add jsons to it\n",
    "attribute_list = []\n",
    "\n",
    "## generating response using mixtral 7x8b (can be changed to mixtral 8x22b but takes much longer) for each product and write it to a json file\n",
    "with open('Exports/data_1.json', 'w') as f:\n",
    "    for id,name, description in zip(mined_text['NUMMER'],mined_text['NAME'],mined_text['BESCHREIBUNG']):\n",
    "        response = ollama.generate(model='mixtral:latest',prompt=prompt)\n",
    "        attribute_list.append(response)\n",
    "        f.write(response['response'])\n",
    "        print(response['response'])"
   ]
  }
 ],
 "metadata": {
  "kernelspec": {
   "display_name": "Python 3",
   "language": "python",
   "name": "python3"
  },
  "language_info": {
   "codemirror_mode": {
    "name": "ipython",
    "version": 3
   },
   "file_extension": ".py",
   "mimetype": "text/x-python",
   "name": "python",
   "nbconvert_exporter": "python",
   "pygments_lexer": "ipython3",
   "version": "3.12.2"
  }
 },
 "nbformat": 4,
 "nbformat_minor": 2
}
