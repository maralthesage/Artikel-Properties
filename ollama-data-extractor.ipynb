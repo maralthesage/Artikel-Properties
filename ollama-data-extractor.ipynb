{
 "cells": [
  {
   "cell_type": "markdown",
   "metadata": {},
   "source": [
    "# Data Extraction using Ollama and Mixtral 7x8b\n",
    "\n",
    "Hardware: Apple M3 Max - 64GB RAM\n",
    "\n",
    "1. I installed the models mixtral:7x8b and mixtral:8x22b in terminal and then I tried them in python using the following code. <br><br>\n",
    "2. Any variation in prompt leads to different results. To extract information from text, it must be explicitly mentioned in the prompt that the model should look for answers only in the text. However, it still made some inferences on its own, without seeing the explicit keyword for a property. As an example, being dishwasher_safe is a property that should be explicitly mentioned in the product description, however, with some materials, the model inferred them to be dishwasher_safe, things like glass as an example. However that is not what needed and need to be further refined.<br><br>\n",
    "3. An example also helps with further refinement of the output of the model. with explicit keys, the model looks for specific properties in text that is needed for that product group. This may change from one product category to the next. However, product description text for each product is not standard with all the needed information. Therefore, some items need to be null or None, and we should also ask the model that when it cannot find the answers in the model, consider the value for the keys as None. It is also important to ask the model to only use keys given in the example to get uniform results. However, the model may sometimes diverge from the instruction, but the majority of responses will be uniformed."
   ]
  },
  {
   "cell_type": "code",
   "execution_count": null,
   "metadata": {},
   "outputs": [],
   "source": [
    "# !pip install pandas ollama"
   ]
  },
  {
   "cell_type": "code",
   "execution_count": null,
   "metadata": {},
   "outputs": [],
   "source": [
    "import pandas as pd\n",
    "import json\n",
    "from values import *\n",
    "import ollama\n",
    "import warnings\n",
    "warnings.filterwarnings('ignore')\n",
    "# pd.set_option('display.max_colwidth', 50)"
   ]
  },
  {
   "cell_type": "code",
   "execution_count": null,
   "metadata": {},
   "outputs": [],
   "source": [
    "val = Values()"
   ]
  },
  {
   "cell_type": "markdown",
   "metadata": {},
   "source": [
    "### DATA CLEANING\n"
   ]
  },
  {
   "cell_type": "code",
   "execution_count": null,
   "metadata": {},
   "outputs": [],
   "source": [
    "artikel_df = pd.read_excel(val.shop_file_path)\n",
    "marketing_artikel = pd.read_csv(val.marketing_artikel,encoding='latin-1', delimiter=';', on_bad_lines='skip',parse_dates=val.dates,dayfirst=True)"
   ]
  },
  {
   "cell_type": "code",
   "execution_count": null,
   "metadata": {},
   "outputs": [],
   "source": [
    "marketing_artikel = marketing_artikel[marketing_artikel['WM'].isna()==True]"
   ]
  },
  {
   "cell_type": "code",
   "execution_count": null,
   "metadata": {},
   "outputs": [],
   "source": [
    "### Cleaning and preparing Warengroup data\n",
    "warengrps = marketing_artikel[['NUMMER','WARENGR']]\n",
    "warengrps['WARENGR'] = pd.to_numeric(warengrps['WARENGR'],errors='coerce')\n",
    "warengrps.dropna(subset='WARENGR',inplace=True)\n",
    "warengrps['WARENGR'] = warengrps['WARENGR'].astype(int)\n",
    "warengrps.drop_duplicates(subset='NUMMER',inplace=True)\n",
    "\n",
    "### Selecting a list of columns from our artikels that we need\n",
    "artikels = artikel_df[['StoreId','Name','Beschreibung']]\n",
    "\n",
    "### Cleaning up the Artikelnumbers, renaming their column and removing unwanted information to connect this dataset with Warengroups data\n",
    "artikels['Number'] = artikels['StoreId'].str.split().str[0]\n",
    "\n",
    "### Connecting two datasets to find the warengroups of each artikel and select some of them for further analysis\n",
    "artikels_mit_wrgp = pd.merge(artikels,warengrps,how='left',left_on='Number',right_on='NUMMER')\n",
    "\n",
    "### Checking the items from right dataset and see if the left-join left some rows null and removing them\n",
    "artikels_mit_wrgp = artikels_mit_wrgp[artikels_mit_wrgp['NUMMER'].isna()==False]\n",
    "### Converting WARENGR column values from float to int\n",
    "artikels_mit_wrgp['WARENGR'] = artikels_mit_wrgp['WARENGR'].astype(int)"
   ]
  },
  {
   "cell_type": "code",
   "execution_count": null,
   "metadata": {},
   "outputs": [],
   "source": [
    "### Selecting certain Warengroups and columns for further analysis\n",
    "kuchen_gerate = artikels_mit_wrgp[artikels_mit_wrgp['WARENGR'].isin([1203])]\n",
    "\n",
    "### Selecting the needed columns and uniforming the column names\n",
    "kuchen_gerate = kuchen_gerate[['WARENGR','NUMMER','Name','Beschreibung']]\n",
    "kuchen_gerate = kuchen_gerate.rename(columns={'Name':'NAME','Beschreibung':'BESCHREIBUNG'})"
   ]
  },
  {
   "cell_type": "code",
   "execution_count": null,
   "metadata": {},
   "outputs": [],
   "source": [
    "kuchen_gerate"
   ]
  },
  {
   "cell_type": "code",
   "execution_count": null,
   "metadata": {},
   "outputs": [],
   "source": [
    "### Removing rows without description\n",
    "for id,item in enumerate(kuchen_gerate['BESCHREIBUNG']):\n",
    "    kuchen_gerate = kuchen_gerate.dropna(subset='BESCHREIBUNG')\n",
    "\n",
    "kuchen_gerate['ORIGINAL_BESCHREIBUNG'] = kuchen_gerate['BESCHREIBUNG'].copy()"
   ]
  },
  {
   "cell_type": "code",
   "execution_count": null,
   "metadata": {},
   "outputs": [],
   "source": [
    "### Removing unwanted characters and duplicates\n",
    "kuchen_gerate['BESCHREIBUNG'] = kuchen_gerate['BESCHREIBUNG'].str.replace(' ',' ',regex=True)\n",
    "kuchen_gerate['BESCHREIBUNG'] = kuchen_gerate['BESCHREIBUNG'].str.replace(r'<p>|</p>|<ul>|</ul>|<li>|</li>|<br>|<b>|</b>|<span.*>|<font.*>|<strong>|</strong>',' ',regex=True,case=False)\n",
    "kuchen_gerate['BESCHREIBUNG'] = kuchen_gerate['BESCHREIBUNG'].str.replace(r'&nbsp_|&nbsp;',' ',regex=True)\n",
    "kuchen_gerate['BESCHREIBUNG'] =kuchen_gerate['BESCHREIBUNG'].str.replace('&Oslash',' ')\n",
    "kuchen_gerate = kuchen_gerate.drop_duplicates()\n"
   ]
  },
  {
   "cell_type": "code",
   "execution_count": null,
   "metadata": {},
   "outputs": [],
   "source": [
    "# Choosing certain columns and combining the name and Beschreibung as they both have product properties\n",
    "mined_text = kuchen_gerate[['NUMMER','NAME','BESCHREIBUNG','ORIGINAL_BESCHREIBUNG','WARENGR']].copy()\n",
    "mined_text['BESCHREIBUNG'] = mined_text['NAME'] + '\\n' +mined_text['BESCHREIBUNG']\n",
    "mined_text['BESCHREIBUNG'] = mined_text['BESCHREIBUNG'].str.lstrip()\n",
    "mined_text['BESCHREIBUNG'] = mined_text['BESCHREIBUNG'].str.rstrip()\n",
    "mined_text.reset_index(inplace=True)\n",
    "mined_text\n"
   ]
  },
  {
   "cell_type": "markdown",
   "metadata": {},
   "source": [
    "## PROMPT ENGINEERING"
   ]
  },
  {
   "cell_type": "code",
   "execution_count": null,
   "metadata": {},
   "outputs": [],
   "source": [
    "## JSON format for the response of the model\n",
    "example = {\"NUMMER\": \"228Z01\",\n",
    "            \"NAME\": \"Mini-Fritteuse\", \n",
    "            \"ART\":\"None\", \n",
    "            \"MATERIAL\":[\"Aluminium\",\"Edelstahl\"], \n",
    "            \"MASSEN\": r\"20 x 12 x 10 cm\",   \n",
    "            \"VOLUME\": r\"2 l\", \n",
    "            \"GEWICHT\":r\"9 kg\",\n",
    "            \"VOLTAGE\": r\"230V\", \n",
    "            \"WATT\": r\"1000W\",\n",
    "            \"FARBE\": \"Rot\",\n",
    "            \"SET\": r\"2-er Set\",\n",
    "            \"OFENFEST\": \"Ja\",\n",
    "            \"SPUELMACHINEFEST\":\"Nein\",\n",
    "            \"BRAND\":\"Hagen Grote Exklusiv\",\n",
    "            \"BESCHICHTUNG\": \"Antihaftbeschichtung\",\n",
    "            \"TEMPERATUR\": \"bis 70 °C\",\n",
    "            \"LED_ANZEIGE\":\"Ja\",\n",
    "            \"KABEL\": \"1 m\",\n",
    "            \"RUTSCHFEST\": \"False\",\n",
    "            \"ANWENDUNG\": \"Frittieren von Pommes Frites, Meeresfrüchten, Fisch und Gemüse\",\n",
    "            \"ANDERE_EIGENSCHAFTEN\": [\"kippbarer Motorkopf\", \"gummigelagerte Füße\"]}"
   ]
  },
  {
   "cell_type": "code",
   "execution_count": null,
   "metadata": {},
   "outputs": [],
   "source": [
    "# allowed_keys = [\"NUMMER\", \"NAME\", \"ART\", \"MATERIAL\", \"MASSEN\", \"VOLUME\", \"GEWICHT\", \"VOLTAGE\", \"WATT\", \"FARBE\", \"SET\", \"OFENFEST\", \"SPUELMACHINEFEST\", \"BRAND\", \"BESCHICHTUNG\", \"TEMPERATUR\", \"LED_ANZEIGE\", \"KABEL\", \"RUTSCHFEST\", \"ANWENDUNG\", \"ANDERE_EIGENSCHAFTEN\"]\n",
    "\n",
    "# prompt = f\"\"\"[INST]Bitte extrahieren Sie die Produktattribute aus dem folgenden Text und geben Sie diese als ein gültiges JSON-Objekt in deutscher Sprache aus. Verwenden Sie nur die folgenden Schlüssel und ändern Sie diese nicht: {allowed_keys}.\n",
    "# Beschränken Sie die Werte auf maximal 50 Zeichen. Wenn Sie eine Information nicht finden können, lassen Sie den entsprechenden Wert einfach leer. Ziehen Sie keine Schlüsse aus dem Text. Verwenden Sie nur das explizite Wissen, das im Text angegeben ist.\n",
    "\n",
    "# Beachten Sie, dass das JSON-Objekt mit '{{' beginnt und mit '}}' endet. Verwenden Sie ':' (Doppelpunkt) zur Trennung von Schlüssel und Wert, und ',' (Komma) zur Trennung von Paaren. Achten Sie darauf, Anführungszeichen ('\"') um die Schlüssel und Werte zu setzen.\n",
    "\n",
    "# Beispiel-RESPONSE: {json.dumps(example, ensure_ascii=False)}\n",
    "# [/INST]\n",
    "\n",
    "# ProduktID: {id}\n",
    "# Produktname: {name}\n",
    "# Beschreibung: {description}\n",
    "# \"\"\"\n"
   ]
  },
  {
   "cell_type": "markdown",
   "metadata": {},
   "source": [
    "## DATA EXTRACTION WITH MIXTRAL "
   ]
  },
  {
   "cell_type": "code",
   "execution_count": null,
   "metadata": {},
   "outputs": [],
   "source": [
    "def fix_json_response(response_text):\n",
    "    # Remove extra commas at the end of the JSON object\n",
    "    response_text = response_text.rstrip(',')\n",
    "\n",
    "    # Add missing quotes around keys and values\n",
    "    response_text = response_text.replace(': ', ': \"').replace(', ', '\", \"').replace('{', '{\"').replace('}', '\"}')\n",
    "\n",
    "    try:\n",
    "        response_dict = json.loads(response_text)\n",
    "        return response_dict\n",
    "    except json.JSONDecodeError:\n",
    "        print(\"Error: The response is still not a valid JSON object after fixing.\")\n",
    "        return None"
   ]
  },
  {
   "cell_type": "code",
   "execution_count": null,
   "metadata": {},
   "outputs": [],
   "source": [
    "import json\n",
    "\n",
    "\n",
    "def clean_response(response_text):\n",
    "    try:\n",
    "        response_dict = json.loads(response_text)\n",
    "        cleaned_dict = {key: value.strip() if isinstance(value, str) else value for key, value in response_dict.items()}\n",
    "        return cleaned_dict\n",
    "\n",
    "    except json.JSONDecodeError:\n",
    "        print(\"Error: The response is not a valid JSON object.\")\n",
    "        print(response_text)\n",
    "        return None\n",
    "    \n",
    "    \n",
    "for id,name, description in zip(mined_text['NUMMER'],mined_text['NAME'],mined_text['BESCHREIBUNG']):\n",
    "    print(id,name)\n",
    "    allowed_keys = [\"NUMMER\", \"NAME\", \"ART\", \"MATERIAL\", \"MASSEN\", \"VOLUME\", \"GEWICHT\", \"VOLTAGE\", \"WATT\", \"FARBE\", \n",
    "                    \"SET\", \"OFENFEST\", \"SPUELMACHINEFEST\", \"BRAND\", \"BESCHICHTUNG\", \"TEMPERATUR\", \"LED_ANZEIGE\", \n",
    "                    \"KABEL\", \"RUTSCHFEST\", \"ANWENDUNG\", \"ANDERE_EIGENSCHAFTEN\"]\n",
    "\n",
    "    prompt = f\"\"\"[INST]Bitte extrahieren Sie die Produktattribute aus dem folgenden \n",
    "        Text und geben Sie diese als ein gültiges JSON-Objekt in deutscher Sprache aus.\n",
    "        Verwenden Sie nur die folgenden Schlüssel und ändern Sie diese nicht: {allowed_keys}.\n",
    "        Beschränken Sie die Werte auf maximal 50 Zeichen. Wenn Sie eine Information nicht finden können, \n",
    "        lassen Sie den entsprechenden Wert einfach leer. Ziehen Sie keine Schlüsse aus dem Text. \n",
    "        Verwenden Sie nur das explizite Wissen, das im Text angegeben ist.\n",
    "\n",
    "        Beachten Sie, dass das JSON-Objekt mit '{{' beginnt und mit '}}' endet. Verwenden Sie ':' \n",
    "        (Doppelpunkt) zur Trennung von Schlüssel und Wert, und ',' (Komma) zur Trennung von Paaren. \n",
    "        Achten Sie darauf, Anführungszeichen ('\"') um die Schlüssel und Werte zu setzen.\n",
    "\n",
    "        Beispiel-RESPONSE: {json.dumps(example, ensure_ascii=False)}\n",
    "        [/INST]\n",
    "\n",
    "        ProduktID: {id}\n",
    "        Produktname: {name}\n",
    "        Beschreibung: {description}\n",
    "        \"\"\"\n",
    "\n",
    "# Generate response using Mixtral 7x8b\n",
    "    response = ollama.generate(model='mixtral:latest', prompt=prompt)\n",
    "\n",
    "# Clean up the response\n",
    "    cleaned_response = clean_response(response['response'])\n",
    "\n",
    "# Save the cleaned response to a JSON file (if not None)\n",
    "    if cleaned_response is not None:\n",
    "        with open('Exports/data_1.json', 'a', encoding=\"utf-8\") as f:\n",
    "            json.dump(cleaned_response, f, indent=4, ensure_ascii=False)\n"
   ]
  }
 ],
 "metadata": {
  "kernelspec": {
   "display_name": "Python 3",
   "language": "python",
   "name": "python3"
  },
  "language_info": {
   "codemirror_mode": {
    "name": "ipython",
    "version": 3
   },
   "file_extension": ".py",
   "mimetype": "text/x-python",
   "name": "python",
   "nbconvert_exporter": "python",
   "pygments_lexer": "ipython3",
   "version": "3.12.2"
  }
 },
 "nbformat": 4,
 "nbformat_minor": 2
}
