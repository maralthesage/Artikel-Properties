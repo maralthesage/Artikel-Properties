{
 "cells": [
  {
   "cell_type": "markdown",
   "metadata": {},
   "source": [
    "## Creating folders for each WARENGRUPPE along with the product data for that WR\n",
    "\n",
    "This is a one-time used code to structure the data so that products for each product group are in their separate folder along with their prompt format and allowed keys as well as their output csv and json files. This will structure the data so that each product group is treated individually based on its attributes. "
   ]
  },
  {
   "cell_type": "code",
   "execution_count": null,
   "metadata": {},
   "outputs": [],
   "source": [
    "## Importing libraries and initializing values class to import the relevant variables\n",
    "import pandas as pd\n",
    "from values import *\n",
    "import os\n",
    "\n",
    "val = Values()"
   ]
  },
  {
   "cell_type": "code",
   "execution_count": null,
   "metadata": {},
   "outputs": [],
   "source": [
    "## loading data from warengruppe list, the products in the webshop and the marketing artikel list that connects the other two datas together\n",
    "warengr = pd.read_csv(val.wr_filepath,delimiter=';',encoding='latin-1')\n",
    "shop = pd.read_excel(val.shop_file_path)\n",
    "\n",
    "## We need the first part of the StoreId number to connect with the marketing artikel list\n",
    "shop['NUMMER'] = shop['StoreId'].str.split().str[0]\n",
    "marketing_art = pd.read_csv(val.marketing_artikel,delimiter=';',encoding='latin-1')"
   ]
  },
  {
   "cell_type": "markdown",
   "metadata": {},
   "source": [
    "### Data Processing"
   ]
  },
  {
   "cell_type": "code",
   "execution_count": null,
   "metadata": {},
   "outputs": [],
   "source": [
    "## changing data types to numeric in marketing artikel list\n",
    "marketing_art['WARENGR'] = pd.to_numeric(marketing_art['WARENGR'],errors='coerce')\n",
    "marketing_art.dropna(subset=['WARENGR','NUMMER'],inplace=True)\n",
    "marketing_art['WARENGR'] = marketing_art['WARENGR'].astype(int)\n",
    "\n",
    "## cleaning marketing artikel list\n",
    "marketing_art = marketing_art[marketing_art['WM'].isna()]\n",
    "marketing_art = marketing_art.dropna(subset='WARENGR')\n",
    "marketing_art = marketing_art[['WM','NUMMER',\"MA_NUMMER\",'WARENGR']]\n",
    "marketing_art = marketing_art.drop_duplicates(subset=['NUMMER'])\n",
    "marketing_art['NUMMER'] = marketing_art['NUMMER'].str.strip()\n",
    "\n",
    "## cleaning warengruppe items in warengr list\n",
    "warengr = warengr[warengr['WAREN_GRP'].str.contains('x',case=False) == False]\n",
    "warengr['WAREN_GRP'] = pd.to_numeric(warengr['WAREN_GRP'],errors='coerce')\n",
    "warengr.dropna(subset='WAREN_GRP',inplace=True)\n",
    "warengr['WAREN_GRP'] = warengr['WAREN_GRP'].astype(int)\n",
    "warengr = warengr[(warengr['WAREN_GRP'].isna() == False) & (warengr['WAREN_GRP'] != 'nan')]"
   ]
  },
  {
   "cell_type": "markdown",
   "metadata": {},
   "source": [
    "### Data Structure Creation"
   ]
  },
  {
   "cell_type": "code",
   "execution_count": null,
   "metadata": {},
   "outputs": [],
   "source": [
    "wg_data = []\n",
    "for num, val in zip(warengr['WAREN_GRP'],warengr['WAREN_GRNA']):\n",
    "    ## iterating over warengruppe\n",
    "    artikels_in_wr = marketing_art[marketing_art['WARENGR'] == num]\n",
    "    ## connecting marketing artikels for each warnegruppe with the shop list\n",
    "    artikels = pd.merge(artikels_in_wr,shop,how='inner',on=\"NUMMER\")\n",
    "    artikels = artikels.dropna(subset='WARENGR')\n",
    "    ## selecting necessary columns\n",
    "    artikels = artikels[['WM','NUMMER','WARENGR','Name','Beschreibung']]\n",
    "    ## renaming columns \n",
    "    artikels = artikels.rename(columns={'Name':'NAME','Beschreibung':'BESCHREIBUNG'})\n",
    "    ## data cleaning (removing html codes and unnecessary characters)\n",
    "    artikels['BESCHREIBUNG'] = artikels['BESCHREIBUNG'].str.replace(' ',' ',regex=True)\n",
    "    artikels['BESCHREIBUNG'] = artikels['BESCHREIBUNG'].str.replace(r'(<[^>]*>)',' ',regex=True,case=False)\n",
    "    artikels['BESCHREIBUNG'] = artikels['BESCHREIBUNG'].str.replace(r'&nbsp_|&nbsp;',' ',regex=True)\n",
    "    artikels['BESCHREIBUNG'] =artikels['BESCHREIBUNG'].str.replace('&Oslash',' ')\n",
    "    artikels = artikels[artikels['BESCHREIBUNG'].isna() == False]\n",
    "    ## preparing the product description to have all the information by concatenating both names and description together\n",
    "    artikels['BESCHREIBUNG'] = artikels['NAME'] + ' - ' + artikels['BESCHREIBUNG']\n",
    "    artikels = artikels[artikels['WARENGR'].isna() == False]\n",
    "    artikels = artikels.drop_duplicates()\n",
    "    wg_data.append([num,val,len(artikels)])\n",
    "\n",
    "    # if len(artikels) != 0:\n",
    "    #     path = os.path.join(val.parent_dir, str(num))\n",
    "    #     print(str(num) + ' ' + str(len(artikels)))\n",
    "    #     print(path)\n",
    "        ## Building folders based on the warengruppe numbers\n",
    "        # os.mkdir(path) \n",
    "\n",
    "        # ## inserting the csv file of the products for each warengruppe and adding a prompt placeholder text (to be filled)\n",
    "        # with open(f'{path}/prompt_{num}.txt','w') as txt:\n",
    "        #     txt.write(\"prompt-to-be-filled\")\n",
    "        # artikels.to_csv(f'{path}/{num}.csv',encoding='utf-8', sep=';',index=False)\n",
    "wg_data"
   ]
  },
  {
   "cell_type": "code",
   "execution_count": null,
   "metadata": {},
   "outputs": [],
   "source": [
    "wg_df = pd.DataFrame(wg_data,columns=['WG_ID','WG_NAME','ITEMS_IN_WG'])\n",
    "wg_df.to_csv('/Users/maralsheikhzadeh/Documents/Codes/useful-exports/WG_artikels.csv',encoding='utf-8',sep=';',index=False)"
   ]
  }
 ],
 "metadata": {
  "kernelspec": {
   "display_name": "base",
   "language": "python",
   "name": "python3"
  },
  "language_info": {
   "codemirror_mode": {
    "name": "ipython",
    "version": 3
   },
   "file_extension": ".py",
   "mimetype": "text/x-python",
   "name": "python",
   "nbconvert_exporter": "python",
   "pygments_lexer": "ipython3",
   "version": "3.12.2"
  }
 },
 "nbformat": 4,
 "nbformat_minor": 2
}
